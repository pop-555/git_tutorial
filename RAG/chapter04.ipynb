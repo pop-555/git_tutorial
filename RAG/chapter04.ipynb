{
  "cells": [
    {
      "cell_type": "markdown",
      "metadata": {
        "id": "view-in-github",
        "colab_type": "text"
      },
      "source": [
        "<a href=\"https://colab.research.google.com/github/pop-555/git_tutorial/blob/master/RAG/chapter04.ipynb\" target=\"_parent\"><img src=\"https://colab.research.google.com/assets/colab-badge.svg\" alt=\"Open In Colab\"/></a>"
      ]
    },
    {
      "cell_type": "markdown",
      "metadata": {
        "id": "9ifoGOdt3O_4"
      },
      "source": [
        "# 4. LangChain の基礎\n"
      ]
    },
    {
      "cell_type": "code",
      "execution_count": null,
      "metadata": {
        "id": "QXFsdCaG3O_5"
      },
      "outputs": [],
      "source": [
        "import os\n",
        "from google.colab import userdata\n",
        "\n",
        "os.environ[\"OPENAI_API_KEY\"] = userdata.get(\"OPENAI_API_KEY\")"
      ]
    },
    {
      "cell_type": "markdown",
      "metadata": {
        "id": "QKfjmxdQ3O_5"
      },
      "source": [
        "## 4.1. LangChain の概要\n"
      ]
    },
    {
      "cell_type": "markdown",
      "metadata": {
        "id": "Np-cqxt13O_5"
      },
      "source": [
        "### LangChain のインストール\n"
      ]
    },
    {
      "cell_type": "markdown",
      "metadata": {
        "id": "7PD1rQPj3O_5"
      },
      "source": [
        "#### 【注意】既知のエラーについて\n",
        "\n",
        "pydantic のアップデートにより、明示的に pydantic のバージョンを指定していない箇所で ChatOpenAI などを使用すると、`PydanticUserError: 'ChatOpenAI' is not fully defined; you should define 'BaseCache', then call 'ChatOpenAI.model_rebuild()'.` というエラーが発生するようになりました。\n",
        "\n",
        "このエラーは、`!pip install pydantic==2.10.6` のように、pydantic の特定バージョンをインストールすることで回避することができます。\n",
        "\n",
        "なお、Google Colab で一度上記のエラーに遭遇したあとで `!pip install pydantic==2.10.6` のようにパッケージをインストールし直した場合、以下のどちらかの操作を実施する必要があります。\n",
        "\n",
        "- Google Colab の「ランタイム」から「セッションを再起動する」を実行する\n",
        "- 「ランタイムを接続解除して削除」を実行してパッケージのインストールからやり直す\n"
      ]
    },
    {
      "cell_type": "code",
      "execution_count": null,
      "metadata": {
        "colab": {
          "base_uri": "https://localhost:8080/"
        },
        "id": "Ie5CdeZO3O_5",
        "outputId": "c1cd7a8a-01fa-4d47-c7aa-0668f2f320ae"
      },
      "outputs": [
        {
          "output_type": "stream",
          "name": "stdout",
          "text": [
            "Requirement already satisfied: langchain-core==0.3.0 in /usr/local/lib/python3.11/dist-packages (0.3.0)\n",
            "Requirement already satisfied: langchain-openai==0.2.0 in /usr/local/lib/python3.11/dist-packages (0.2.0)\n",
            "Requirement already satisfied: pydantic==2.10.6 in /usr/local/lib/python3.11/dist-packages (2.10.6)\n",
            "Requirement already satisfied: PyYAML>=5.3 in /usr/local/lib/python3.11/dist-packages (from langchain-core==0.3.0) (6.0.2)\n",
            "Requirement already satisfied: jsonpatch<2.0,>=1.33 in /usr/local/lib/python3.11/dist-packages (from langchain-core==0.3.0) (1.33)\n",
            "Requirement already satisfied: langsmith<0.2.0,>=0.1.117 in /usr/local/lib/python3.11/dist-packages (from langchain-core==0.3.0) (0.1.147)\n",
            "Requirement already satisfied: packaging<25,>=23.2 in /usr/local/lib/python3.11/dist-packages (from langchain-core==0.3.0) (24.2)\n",
            "Requirement already satisfied: tenacity!=8.4.0,<9.0.0,>=8.1.0 in /usr/local/lib/python3.11/dist-packages (from langchain-core==0.3.0) (8.5.0)\n",
            "Requirement already satisfied: typing-extensions>=4.7 in /usr/local/lib/python3.11/dist-packages (from langchain-core==0.3.0) (4.14.0)\n",
            "Requirement already satisfied: openai<2.0.0,>=1.40.0 in /usr/local/lib/python3.11/dist-packages (from langchain-openai==0.2.0) (1.91.0)\n",
            "Requirement already satisfied: tiktoken<1,>=0.7 in /usr/local/lib/python3.11/dist-packages (from langchain-openai==0.2.0) (0.9.0)\n",
            "Requirement already satisfied: annotated-types>=0.6.0 in /usr/local/lib/python3.11/dist-packages (from pydantic==2.10.6) (0.7.0)\n",
            "Requirement already satisfied: pydantic-core==2.27.2 in /usr/local/lib/python3.11/dist-packages (from pydantic==2.10.6) (2.27.2)\n",
            "Requirement already satisfied: jsonpointer>=1.9 in /usr/local/lib/python3.11/dist-packages (from jsonpatch<2.0,>=1.33->langchain-core==0.3.0) (3.0.0)\n",
            "Requirement already satisfied: httpx<1,>=0.23.0 in /usr/local/lib/python3.11/dist-packages (from langsmith<0.2.0,>=0.1.117->langchain-core==0.3.0) (0.28.1)\n",
            "Requirement already satisfied: orjson<4.0.0,>=3.9.14 in /usr/local/lib/python3.11/dist-packages (from langsmith<0.2.0,>=0.1.117->langchain-core==0.3.0) (3.10.18)\n",
            "Requirement already satisfied: requests<3,>=2 in /usr/local/lib/python3.11/dist-packages (from langsmith<0.2.0,>=0.1.117->langchain-core==0.3.0) (2.32.3)\n",
            "Requirement already satisfied: requests-toolbelt<2.0.0,>=1.0.0 in /usr/local/lib/python3.11/dist-packages (from langsmith<0.2.0,>=0.1.117->langchain-core==0.3.0) (1.0.0)\n",
            "Requirement already satisfied: anyio<5,>=3.5.0 in /usr/local/lib/python3.11/dist-packages (from openai<2.0.0,>=1.40.0->langchain-openai==0.2.0) (4.9.0)\n",
            "Requirement already satisfied: distro<2,>=1.7.0 in /usr/local/lib/python3.11/dist-packages (from openai<2.0.0,>=1.40.0->langchain-openai==0.2.0) (1.9.0)\n",
            "Requirement already satisfied: jiter<1,>=0.4.0 in /usr/local/lib/python3.11/dist-packages (from openai<2.0.0,>=1.40.0->langchain-openai==0.2.0) (0.10.0)\n",
            "Requirement already satisfied: sniffio in /usr/local/lib/python3.11/dist-packages (from openai<2.0.0,>=1.40.0->langchain-openai==0.2.0) (1.3.1)\n",
            "Requirement already satisfied: tqdm>4 in /usr/local/lib/python3.11/dist-packages (from openai<2.0.0,>=1.40.0->langchain-openai==0.2.0) (4.67.1)\n",
            "Requirement already satisfied: regex>=2022.1.18 in /usr/local/lib/python3.11/dist-packages (from tiktoken<1,>=0.7->langchain-openai==0.2.0) (2024.11.6)\n",
            "Requirement already satisfied: idna>=2.8 in /usr/local/lib/python3.11/dist-packages (from anyio<5,>=3.5.0->openai<2.0.0,>=1.40.0->langchain-openai==0.2.0) (3.10)\n",
            "Requirement already satisfied: certifi in /usr/local/lib/python3.11/dist-packages (from httpx<1,>=0.23.0->langsmith<0.2.0,>=0.1.117->langchain-core==0.3.0) (2025.6.15)\n",
            "Requirement already satisfied: httpcore==1.* in /usr/local/lib/python3.11/dist-packages (from httpx<1,>=0.23.0->langsmith<0.2.0,>=0.1.117->langchain-core==0.3.0) (1.0.9)\n",
            "Requirement already satisfied: h11>=0.16 in /usr/local/lib/python3.11/dist-packages (from httpcore==1.*->httpx<1,>=0.23.0->langsmith<0.2.0,>=0.1.117->langchain-core==0.3.0) (0.16.0)\n",
            "Requirement already satisfied: charset-normalizer<4,>=2 in /usr/local/lib/python3.11/dist-packages (from requests<3,>=2->langsmith<0.2.0,>=0.1.117->langchain-core==0.3.0) (3.4.2)\n",
            "Requirement already satisfied: urllib3<3,>=1.21.1 in /usr/local/lib/python3.11/dist-packages (from requests<3,>=2->langsmith<0.2.0,>=0.1.117->langchain-core==0.3.0) (2.4.0)\n"
          ]
        }
      ],
      "source": [
        "!pip install langchain-core==0.3.0 langchain-openai==0.2.0 pydantic==2.10.6"
      ]
    },
    {
      "cell_type": "markdown",
      "metadata": {
        "id": "rLIvqVOx3O_5"
      },
      "source": [
        "### LangSmith のセットアップ\n"
      ]
    },
    {
      "cell_type": "code",
      "execution_count": null,
      "metadata": {
        "execution": {
          "iopub.execute_input": "2024-06-28T02:32:34.489407Z",
          "iopub.status.busy": "2024-06-28T02:32:34.488775Z",
          "iopub.status.idle": "2024-06-28T02:32:34.491583Z",
          "shell.execute_reply": "2024-06-28T02:32:34.491086Z"
        },
        "id": "H53zIIB33O_5"
      },
      "outputs": [],
      "source": [
        "os.environ[\"LANGCHAIN_TRACING_V2\"] = \"true\"  # LangChainで「会話の動き（トレース）」を記録する機能をオンにするよ\n",
        "\n",
        "os.environ[\"LANGCHAIN_ENDPOINT\"] = \"https://api.smith.langchain.com\"  # LangChainのサーバーの場所（どこにアクセスするか）を教えてるよ\n",
        "\n",
        "os.environ[\"LANGCHAIN_API_KEY\"] = userdata.get(\"LANGCHAIN_API_KEY\")  # 自分の秘密のカギ（APIキー）をColabから取り出して設定してるよ\n",
        "\n",
        "os.environ[\"LANGCHAIN_PROJECT\"] = \"agent-book\"  # プロジェクトの名前を「agent-book」にして、記録をまとめるよ\n"
      ]
    },
    {
      "cell_type": "markdown",
      "metadata": {
        "id": "-J9h3aDT3O_6"
      },
      "source": [
        "## 4.2. LLM / Chat model\n"
      ]
    },
    {
      "cell_type": "markdown",
      "metadata": {
        "id": "DQqPqCMz3O_6"
      },
      "source": [
        "### LLM\n"
      ]
    },
    {
      "cell_type": "code",
      "execution_count": null,
      "metadata": {
        "execution": {
          "iopub.execute_input": "2024-06-28T02:32:34.493540Z",
          "iopub.status.busy": "2024-06-28T02:32:34.493370Z",
          "iopub.status.idle": "2024-06-28T02:32:36.949739Z",
          "shell.execute_reply": "2024-06-28T02:32:36.949284Z"
        },
        "colab": {
          "base_uri": "https://localhost:8080/"
        },
        "id": "dCCGbkmL3O_6",
        "outputId": "3c71d0aa-0ee6-4822-e5eb-5d24c357eac5"
      },
      "outputs": [
        {
          "output_type": "stream",
          "name": "stderr",
          "text": [
            "WARNING:langsmith.client:Failed to multipart ingest runs: langsmith.utils.LangSmithError: Failed to POST https://api.smith.langchain.com/runs/multipart in LangSmith API. HTTPError('403 Client Error: Forbidden for url: https://api.smith.langchain.com/runs/multipart', '{\"error\":\"Forbidden\"}\\n')\n"
          ]
        },
        {
          "output_type": "stream",
          "name": "stdout",
          "text": [
            "\n",
            "\n",
            "こんにちは\n",
            "\n",
            "こんにちは、私はAIのアシスタントです。あなたのお手伝いをすることができます。何かお困りのことはありますか？\n"
          ]
        }
      ],
      "source": [
        "from langchain_openai import OpenAI  # OpenAIを使うためのLangChainの道具を読み込むよ\n",
        "\n",
        "model = OpenAI(model=\"gpt-3.5-turbo-instruct\", temperature=0)  # GPTの種類を指定してAIを準備するよ（temperature=0は「ブレずに答えてね」って意味）\n",
        "\n",
        "ai_message = model.invoke(\"こんにちは\")  # AIに「こんにちは」って話しかけて返事をもらうよ\n",
        "\n",
        "print(ai_message)  # 返ってきたAIの返事を画面に表示するよ\n"
      ]
    },
    {
      "cell_type": "markdown",
      "metadata": {
        "id": "BaVc5eI83O_6"
      },
      "source": [
        "### Chat model\n"
      ]
    },
    {
      "cell_type": "code",
      "execution_count": null,
      "metadata": {
        "execution": {
          "iopub.execute_input": "2024-06-28T02:32:36.951724Z",
          "iopub.status.busy": "2024-06-28T02:32:36.951536Z",
          "iopub.status.idle": "2024-06-28T02:32:39.034259Z",
          "shell.execute_reply": "2024-06-28T02:32:39.033764Z"
        },
        "colab": {
          "base_uri": "https://localhost:8080/"
        },
        "id": "qE68E04V3O_6",
        "outputId": "59971ba1-eb0b-4f0c-c3a0-672832830f9e"
      },
      "outputs": [
        {
          "output_type": "stream",
          "name": "stderr",
          "text": [
            "WARNING:langsmith.client:Failed to multipart ingest runs: langsmith.utils.LangSmithError: Failed to POST https://api.smith.langchain.com/runs/multipart in LangSmith API. HTTPError('403 Client Error: Forbidden for url: https://api.smith.langchain.com/runs/multipart', '{\"error\":\"Forbidden\"}\\n')\n"
          ]
        },
        {
          "output_type": "stream",
          "name": "stdout",
          "text": [
            "はい、あなたの名前はジョンさんです。何か特別なことについてお話ししたいですか？\n"
          ]
        }
      ],
      "source": [
        "from langchain_core.messages import AIMessage, HumanMessage, SystemMessage  # 人の発言やAIの発言を使えるようにするよ\n",
        "from langchain_openai import ChatOpenAI  # ChatGPTを使う道具を読み込むよ\n",
        "\n",
        "model = ChatOpenAI(model=\"gpt-4o-mini\", temperature=0)  # GPT-4のちょっと軽いバージョンで、まじめに答えるように設定するよ\n",
        "\n",
        "messages = [  # これまでの会話の流れをまとめてるよ\n",
        "    SystemMessage(\"You are a helpful assistant.\"),  # 「あなたは親切なAIです」という設定を伝えてるよ\n",
        "    HumanMessage(\"こんにちは！私はジョンと言います\"),  # 人（ジョンさん）があいさつしてるよ\n",
        "    AIMessage(content=\"こんにちは、ジョンさん！どのようにお手伝いできますか？\"),  # AIが返事をしてるよ\n",
        "    HumanMessage(content=\"私の名前がわかりますか？\"),  # 人がもう一度質問してるよ\n",
        "]\n",
        "\n",
        "ai_message = model.invoke(messages)  # この会話の続きとしてAIに考えてもらうよ\n",
        "\n",
        "print(ai_message.content)  # AIが返してきた答えを画面に出すよ\n"
      ]
    },
    {
      "cell_type": "markdown",
      "metadata": {
        "id": "laCvaqJX3O_6"
      },
      "source": [
        "### ストリーミング\n"
      ]
    },
    {
      "cell_type": "code",
      "execution_count": null,
      "metadata": {
        "execution": {
          "iopub.execute_input": "2024-06-28T02:32:39.036893Z",
          "iopub.status.busy": "2024-06-28T02:32:39.036468Z",
          "iopub.status.idle": "2024-06-28T02:32:40.188998Z",
          "shell.execute_reply": "2024-06-28T02:32:40.188511Z"
        },
        "colab": {
          "base_uri": "https://localhost:8080/"
        },
        "id": "FHh_yKxd3O_6",
        "outputId": "6d2d714d-49b8-4660-d689-0416e9b1ff62"
      },
      "outputs": [
        {
          "output_type": "stream",
          "name": "stderr",
          "text": [
            "WARNING:langsmith.client:Failed to multipart ingest runs: langsmith.utils.LangSmithError: Failed to POST https://api.smith.langchain.com/runs/multipart in LangSmith API. HTTPError('403 Client Error: Forbidden for url: https://api.smith.langchain.com/runs/multipart', '{\"error\":\"Forbidden\"}\\n')\n"
          ]
        },
        {
          "output_type": "stream",
          "name": "stdout",
          "text": [
            "こんにちは！どのようにお手伝いできますか？"
          ]
        }
      ],
      "source": [
        "from langchain_core.messages import SystemMessage, HumanMessage  # AIへのルール（System）や人の発言（Human）を作る道具を読み込むよ\n",
        "from langchain_openai import ChatOpenAI  # ChatGPTを使うためのLangChainの道具を使うよ\n",
        "\n",
        "model = ChatOpenAI(model=\"gpt-4o-mini\", temperature=0)  # まじめに返事する小型モデルを使うよ（温度0＝ブレが少ない）\n",
        "\n",
        "messages = [  # 会話の内容をまとめておくよ\n",
        "    SystemMessage(\"You are a helpful assistant.\"),  # AIには「親切なアシスタントでいてね」と伝えてるよ\n",
        "    HumanMessage(\"こんにちは！\"),  # 人が「こんにちは！」って話しかけてるよ\n",
        "]\n",
        "\n",
        "for chunk in model.stream(messages):  # AIから返事が少しずつ流れてくるのを受け取るよ\n",
        "    print(chunk.content, end=\"\", flush=True)  # 一文字ずつリアルタイムで表示するよ（改行なしで即表示！）\n"
      ]
    },
    {
      "cell_type": "markdown",
      "metadata": {
        "id": "2Ik88E933O_6"
      },
      "source": [
        "## 4.3. Prompt template\n"
      ]
    },
    {
      "cell_type": "markdown",
      "metadata": {
        "id": "uF7S3pG63O_6"
      },
      "source": [
        "### PromptTemplate\n"
      ]
    },
    {
      "cell_type": "code",
      "execution_count": null,
      "metadata": {
        "execution": {
          "iopub.execute_input": "2024-06-28T02:32:40.191537Z",
          "iopub.status.busy": "2024-06-28T02:32:40.191222Z",
          "iopub.status.idle": "2024-06-28T02:32:40.197096Z",
          "shell.execute_reply": "2024-06-28T02:32:40.196704Z"
        },
        "colab": {
          "base_uri": "https://localhost:8080/"
        },
        "id": "O_gR6Jsy3O_6",
        "outputId": "cecbe827-7e04-43b2-b31b-a9c629bd84ca"
      },
      "outputs": [
        {
          "output_type": "stream",
          "name": "stdout",
          "text": [
            "以下の料理のレシピを考えてください。\n",
            "\n",
            "料理名: カレー\n"
          ]
        }
      ],
      "source": [
        "from langchain_core.prompts import PromptTemplate  # LangChainの「質問ひな形」を使うための道具をよび出すよ\n",
        "\n",
        "prompt = PromptTemplate.from_template(\"\"\"以下の料理のレシピを考えてください。\n",
        "\n",
        "料理名: {dish}\"\"\")  # 「料理名を入れたらレシピを考える」というテンプレートを作ってるよ\n",
        "\n",
        "prompt_value = prompt.invoke({\"dish\": \"カレー\"})  # 「カレー」を入れて、テンプレートを完成させるよ\n",
        "\n",
        "print(prompt_value.text)  # 出来上がった文（AIに渡す質問）を表示してるよ\n"
      ]
    },
    {
      "cell_type": "markdown",
      "metadata": {
        "id": "o7EJuMct3O_6"
      },
      "source": [
        "#### ＜補足：プロンプトの変数が 1 つの場合＞\n"
      ]
    },
    {
      "cell_type": "code",
      "execution_count": null,
      "metadata": {
        "colab": {
          "base_uri": "https://localhost:8080/"
        },
        "id": "r4YEVnL43O_6",
        "outputId": "6c36e89a-5161-4800-bd33-95be035dcff7"
      },
      "outputs": [
        {
          "output_type": "stream",
          "name": "stdout",
          "text": [
            "以下の料理のレシピを考えてください。\n",
            "\n",
            "料理名: カレー\n"
          ]
        }
      ],
      "source": [
        "prompt_value = prompt.invoke(\"カレー\")  # ❌これは間違い！「カレー」だけを渡すとテンプレートがうまく動かないよ\n",
        "print(prompt_value.text)  # 結果を表示しようとしてるけど、うまくいかないかもしれないよ\n"
      ]
    },
    {
      "cell_type": "markdown",
      "metadata": {
        "id": "utuC4xxn3O_6"
      },
      "source": [
        "### ChatPromptTemplate\n"
      ]
    },
    {
      "cell_type": "code",
      "execution_count": null,
      "metadata": {
        "execution": {
          "iopub.execute_input": "2024-06-28T02:32:40.199009Z",
          "iopub.status.busy": "2024-06-28T02:32:40.198811Z",
          "iopub.status.idle": "2024-06-28T02:32:40.204792Z",
          "shell.execute_reply": "2024-06-28T02:32:40.204434Z"
        },
        "colab": {
          "base_uri": "https://localhost:8080/"
        },
        "id": "uF9_ujaJ3O_6",
        "outputId": "967aaf5b-3f19-4cd6-e044-a190fa6663d8"
      },
      "outputs": [
        {
          "output_type": "stream",
          "name": "stdout",
          "text": [
            "messages=[SystemMessage(content='ユーザーが入力した料理のレシピを考えてください。', additional_kwargs={}, response_metadata={}), HumanMessage(content='カレー', additional_kwargs={}, response_metadata={})]\n"
          ]
        }
      ],
      "source": [
        "from langchain_core.prompts import ChatPromptTemplate  # 会話用のプロンプトテンプレートを使うために必要な道具を読み込むよ\n",
        "\n",
        "prompt = ChatPromptTemplate.from_messages(  # 会話の流れを作るテンプレートを作るよ\n",
        "    [\n",
        "        (\"system\", \"ユーザーが入力した料理のレシピを考えてください。\"),  # 最初にAIへルール説明（\"あなたはレシピを考える人です\"）\n",
        "        (\"human\", \"{dish}\"),  # ユーザーが料理名を言う部分だよ（{dish}が後で「カレー」になる）\n",
        "    ]\n",
        ")\n",
        "\n",
        "prompt_value = prompt.invoke({\"dish\": \"カレー\"})  # {dish} に「カレー」を入れて、実際のプロンプトを完成させるよ\n",
        "print(prompt_value)  # 出来上がった会話の流れを表示するよ（AIに送る内容がどうなるか確認できる）\n"
      ]
    },
    {
      "cell_type": "markdown",
      "metadata": {
        "id": "z-RHFZ1j3O_6"
      },
      "source": [
        "### MessagesPlaceholder\n"
      ]
    },
    {
      "cell_type": "code",
      "execution_count": null,
      "metadata": {
        "execution": {
          "iopub.execute_input": "2024-06-28T02:32:40.206823Z",
          "iopub.status.busy": "2024-06-28T02:32:40.206639Z",
          "iopub.status.idle": "2024-06-28T02:32:40.213139Z",
          "shell.execute_reply": "2024-06-28T02:32:40.212764Z"
        },
        "colab": {
          "base_uri": "https://localhost:8080/"
        },
        "id": "vvagfFtV3O_6",
        "outputId": "a7685952-5809-4ccf-aef0-4ed1047c792c"
      },
      "outputs": [
        {
          "output_type": "stream",
          "name": "stdout",
          "text": [
            "messages=[SystemMessage(content='You are a helpful assistant.', additional_kwargs={}, response_metadata={}), HumanMessage(content='こんにちは！私はジョンと言います！', additional_kwargs={}, response_metadata={}), AIMessage(content='こんにちは、ジョンさん！どのようにお手伝いできますか？', additional_kwargs={}, response_metadata={}), HumanMessage(content='私の名前が分かりますか？', additional_kwargs={}, response_metadata={})]\n"
          ]
        }
      ],
      "source": [
        "from langchain_core.messages import AIMessage, HumanMessage  # 人間とAIのセリフのためのクラスを読み込むよ\n",
        "from langchain_core.prompts import ChatPromptTemplate, MessagesPlaceholder  # 会話テンプレートと履歴の場所（プレースホルダー）を使うよ\n",
        "\n",
        "prompt = ChatPromptTemplate.from_messages(  # 会話の形を作るテンプレートを作るよ\n",
        "    [\n",
        "        (\"system\", \"You are a helpful assistant.\"),  # 最初にAIのルールを伝える（親切なアシスタントだよ）\n",
        "        MessagesPlaceholder(\"chat_history\", optional=True),  # これまでの会話（履歴）を入れる場所だよ\n",
        "        (\"human\", \"{input}\"),  # 今の質問（ユーザーの発言）を入れる場所だよ\n",
        "    ]\n",
        ")\n",
        "\n",
        "prompt_value = prompt.invoke(  # 実際の会話の内容を入れて、AIに渡す会話全体を作るよ\n",
        "    {\n",
        "        \"chat_history\": [  # 会話の履歴（前にどんな話をしたか）を入れるよ\n",
        "            HumanMessage(content=\"こんにちは！私はジョンと言います！\"),  # 人間が自己紹介したよ\n",
        "            AIMessage(\"こんにちは、ジョンさん！どのようにお手伝いできますか？\"),  # AIが返事をしたよ\n",
        "        ],\n",
        "        \"input\": \"私の名前が分かりますか？\",  # 今の質問（ユーザーの新しい発言）を入れるよ\n",
        "    }\n",
        ")\n",
        "print(prompt_value)  # 最終的にAIに渡す文章（すべての会話）を表示するよ\n"
      ]
    },
    {
      "cell_type": "markdown",
      "metadata": {
        "id": "dUV5Ar1P3O_6"
      },
      "source": [
        "### LangSmith の Prompts\n"
      ]
    },
    {
      "cell_type": "code",
      "execution_count": null,
      "metadata": {
        "execution": {
          "iopub.execute_input": "2024-06-28T02:32:40.215357Z",
          "iopub.status.busy": "2024-06-28T02:32:40.215034Z",
          "iopub.status.idle": "2024-06-28T02:32:40.850572Z",
          "shell.execute_reply": "2024-06-28T02:32:40.850086Z"
        },
        "colab": {
          "base_uri": "https://localhost:8080/"
        },
        "id": "VYnqqwCU3O_6",
        "outputId": "44e34eea-3d26-43f1-8faf-9fbacb95b620"
      },
      "outputs": [
        {
          "output_type": "stream",
          "name": "stdout",
          "text": [
            "messages=[SystemMessage(content='ユーザーが入力した料理のレシピを考えてください。', additional_kwargs={}, response_metadata={}), HumanMessage(content='カレー', additional_kwargs={}, response_metadata={})]\n"
          ]
        }
      ],
      "source": [
        "from langsmith import Client  # LangSmithという道具を使うよ。これはテンプレートを管理する場所だよ\n",
        "\n",
        "client = Client()  # LangSmithとつながる準備をするよ（お客さん用の入口を作ってるイメージ）\n",
        "\n",
        "prompt = client.pull_prompt(\"oshima/recipe\")  # 「oshima」さんが作った「recipe」というテンプレートを引っ張ってくるよ\n",
        "\n",
        "prompt_value = prompt.invoke({\"dish\": \"カレー\"})  # 「料理名＝カレー」としてテンプレートを使ってみるよ\n",
        "\n",
        "print(prompt_value)  # 出てきたレシピを表示するよ\n"
      ]
    },
    {
      "cell_type": "markdown",
      "metadata": {
        "id": "cW11dOfi3O_7"
      },
      "source": [
        "### （コラム）マルチモーダルモデルの入力の扱い\n"
      ]
    },
    {
      "cell_type": "code",
      "execution_count": null,
      "metadata": {
        "execution": {
          "iopub.execute_input": "2024-06-28T02:32:40.852551Z",
          "iopub.status.busy": "2024-06-28T02:32:40.852328Z",
          "iopub.status.idle": "2024-06-28T02:32:40.984619Z",
          "shell.execute_reply": "2024-06-28T02:32:40.984231Z"
        },
        "id": "XDAoX7nJ3O_7"
      },
      "outputs": [],
      "source": [
        "from langchain_core.prompts import ChatPromptTemplate  # 会話のテンプレートを作るための道具を読み込むよ\n",
        "from langchain_openai import ChatOpenAI  # OpenAIのAI（会話型）を使うための準備だよ\n",
        "\n",
        "# 会話のテンプレートを作るよ（ユーザーの発言として、画像と文字を入れるよ）\n",
        "prompt = ChatPromptTemplate.from_messages(\n",
        "    [\n",
        "        (\n",
        "            \"user\",  # ユーザーの発言として\n",
        "            [\n",
        "                {\"type\": \"text\", \"text\": \"画像を説明してください。\"},  # 「この画像を説明してね」と言ってるよ\n",
        "                {\"type\": \"image_url\", \"image_url\": {\"url\": \"{image_url}\"}},  # あとで画像のURLをここに入れるよ\n",
        "            ],\n",
        "        ),\n",
        "    ]\n",
        ")\n",
        "\n",
        "# 説明してもらいたい画像のURLを用意するよ（LangChain本の表紙画像）\n",
        "image_url = \"https://raw.githubusercontent.com/yoshidashingo/langchain-book/main/assets/cover.jpg\"\n",
        "\n",
        "# 画像のURLをテンプレートに当てはめて、AIに渡す準備をするよ\n",
        "prompt_value = prompt.invoke({\"image_url\": image_url})\n"
      ]
    },
    {
      "cell_type": "code",
      "execution_count": null,
      "metadata": {
        "execution": {
          "iopub.execute_input": "2024-06-28T02:32:40.986542Z",
          "iopub.status.busy": "2024-06-28T02:32:40.986385Z",
          "iopub.status.idle": "2024-06-28T02:32:49.421870Z",
          "shell.execute_reply": "2024-06-28T02:32:49.421368Z"
        },
        "colab": {
          "base_uri": "https://localhost:8080/"
        },
        "id": "YKrgkpM-3O_7",
        "outputId": "93566751-fd4b-4a40-9de9-6637ada6ad8a"
      },
      "outputs": [
        {
          "output_type": "stream",
          "name": "stderr",
          "text": [
            "WARNING:langsmith.client:Failed to multipart ingest runs: langsmith.utils.LangSmithError: Failed to POST https://api.smith.langchain.com/runs/multipart in LangSmith API. HTTPError('403 Client Error: Forbidden for url: https://api.smith.langchain.com/runs/multipart', '{\"error\":\"Forbidden\"}\\n')\n"
          ]
        },
        {
          "output_type": "stream",
          "name": "stdout",
          "text": [
            "この画像は、本の表紙です。タイトルは「ChatGPT/ LangChainによるチャットシステム構築[実践]入門」で、著者は吉田真吾と大嶋勇樹です。表紙にはカラフルな鳥のイラストが描かれています。内容としては、大規模言語モデルを本番システムで活用するための基礎知識と実践的なハンズオンが含まれているようです。OpenAI APIやLangChainの活用についても触れられています。\n"
          ]
        }
      ],
      "source": [
        "model = ChatOpenAI(model=\"gpt-4o\", temperature=0)  # すごくかしこいAI（GPT-4o）を使う準備をしてるよ。温度0はブレずにしっかり考えてくれる設定だよ\n",
        "\n",
        "ai_message = model.invoke(prompt_value)  # さっき作った「画像を説明してね」っていうお願いをAIに送って、返事をもらうよ\n",
        "\n",
        "print(ai_message.content)  # AIからの返事（画像の説明）を画面に出すよ\n"
      ]
    },
    {
      "cell_type": "markdown",
      "metadata": {
        "id": "WRN6Mlrr3O_7"
      },
      "source": [
        "## 4.4. Output parser\n"
      ]
    },
    {
      "cell_type": "markdown",
      "metadata": {
        "id": "LBOxMdlj3O_7"
      },
      "source": [
        "### PydanticOutputParser を使った Python オブジェクトへの変換\n"
      ]
    },
    {
      "cell_type": "code",
      "execution_count": null,
      "metadata": {
        "execution": {
          "iopub.execute_input": "2024-06-28T02:32:49.423970Z",
          "iopub.status.busy": "2024-06-28T02:32:49.423805Z",
          "iopub.status.idle": "2024-06-28T02:32:49.427124Z",
          "shell.execute_reply": "2024-06-28T02:32:49.426747Z"
        },
        "id": "c0tHhgST3O_7"
      },
      "outputs": [],
      "source": [
        "from pydantic import BaseModel, Field  # データの形を決めるための道具（型チェックもしてくれる）を使うよ\n",
        "\n",
        "class Recipe(BaseModel):  # レシピという「料理の説明書」の型を作るよ\n",
        "    ingredients: list[str] = Field(description=\"ingredients of the dish\")  # 材料を文字のリストで入れるよ（例: [\"にんじん\", \"たまねぎ\"]）\n",
        "    steps: list[str] = Field(description=\"steps to make the dish\")  # 作り方も文字のリストで入れるよ（例: [\"切る\", \"焼く\"]）\n"
      ]
    },
    {
      "cell_type": "code",
      "execution_count": null,
      "metadata": {
        "execution": {
          "iopub.execute_input": "2024-06-28T02:32:49.428896Z",
          "iopub.status.busy": "2024-06-28T02:32:49.428630Z",
          "iopub.status.idle": "2024-06-28T02:32:49.430921Z",
          "shell.execute_reply": "2024-06-28T02:32:49.430585Z"
        },
        "id": "afEqjcf83O_7"
      },
      "outputs": [],
      "source": [
        "from langchain_core.output_parsers import PydanticOutputParser  # AIの答えをきれいに読み取る道具を使うよ（Pydanticと連携）\n",
        "\n",
        "output_parser = PydanticOutputParser(pydantic_object=Recipe)  # Recipeという「レシピの型」に合わせて、AIの答えを分けてくれる準備をするよ\n"
      ]
    },
    {
      "cell_type": "code",
      "execution_count": null,
      "metadata": {
        "execution": {
          "iopub.execute_input": "2024-06-28T02:32:49.432752Z",
          "iopub.status.busy": "2024-06-28T02:32:49.432482Z",
          "iopub.status.idle": "2024-06-28T02:32:49.435573Z",
          "shell.execute_reply": "2024-06-28T02:32:49.435232Z"
        },
        "colab": {
          "base_uri": "https://localhost:8080/"
        },
        "id": "aBomKiim3O_7",
        "outputId": "83d792f2-7a6d-4ab6-b4a9-1bd6905b304a"
      },
      "outputs": [
        {
          "output_type": "stream",
          "name": "stdout",
          "text": [
            "The output should be formatted as a JSON instance that conforms to the JSON schema below.\n",
            "\n",
            "As an example, for the schema {\"properties\": {\"foo\": {\"title\": \"Foo\", \"description\": \"a list of strings\", \"type\": \"array\", \"items\": {\"type\": \"string\"}}}, \"required\": [\"foo\"]}\n",
            "the object {\"foo\": [\"bar\", \"baz\"]} is a well-formatted instance of the schema. The object {\"properties\": {\"foo\": [\"bar\", \"baz\"]}} is not well-formatted.\n",
            "\n",
            "Here is the output schema:\n",
            "```\n",
            "{\"properties\": {\"ingredients\": {\"description\": \"ingredients of the dish\", \"items\": {\"type\": \"string\"}, \"title\": \"Ingredients\", \"type\": \"array\"}, \"steps\": {\"description\": \"steps to make the dish\", \"items\": {\"type\": \"string\"}, \"title\": \"Steps\", \"type\": \"array\"}}, \"required\": [\"ingredients\", \"steps\"]}\n",
            "```\n"
          ]
        }
      ],
      "source": [
        "format_instructions = output_parser.get_format_instructions()  # AIに「この形で答えてね！」って伝えるための説明文を取り出す\n",
        "print(format_instructions)  # その説明文を見せるよ\n"
      ]
    },
    {
      "cell_type": "code",
      "execution_count": null,
      "metadata": {
        "execution": {
          "iopub.execute_input": "2024-06-28T02:32:49.437304Z",
          "iopub.status.busy": "2024-06-28T02:32:49.437089Z",
          "iopub.status.idle": "2024-06-28T02:32:49.440212Z",
          "shell.execute_reply": "2024-06-28T02:32:49.439868Z"
        },
        "id": "RqudiCrs3O_7"
      },
      "outputs": [],
      "source": [
        "from langchain_core.prompts import ChatPromptTemplate  # 会話のテンプレートを作るための道具を使うよ\n",
        "\n",
        "prompt = ChatPromptTemplate.from_messages(  # 会話の流れを決めるテンプレートを作ってるよ\n",
        "    [\n",
        "        (  # 最初にAIにルールを教えるよ（システムメッセージ）\n",
        "            \"system\",  # AIに伝える特別なメッセージだよ\n",
        "            \"ユーザーが入力した料理のレシピを考えてください。\\n\\n\"  # AIにやってほしいこと（レシピを考える）を伝えるよ\n",
        "            \"{format_instructions}\",  # あとでここに「こうやって出力してね」というルールが入るよ\n",
        "        ),\n",
        "        (\"human\", \"{dish}\"),  # 人間が料理の名前を入れる場所だよ（例：「カレー」）\n",
        "    ]\n",
        ")\n",
        "\n",
        "prompt_with_format_instructions = prompt.partial(  # 上で作ったテンプレートの「穴」をうめていくよ\n",
        "    format_instructions=format_instructions  # どういう形（JSON形式）で答えてほしいかのルールをここにセットするよ\n",
        ")\n"
      ]
    },
    {
      "cell_type": "code",
      "execution_count": null,
      "metadata": {
        "execution": {
          "iopub.execute_input": "2024-06-28T02:32:49.441965Z",
          "iopub.status.busy": "2024-06-28T02:32:49.441750Z",
          "iopub.status.idle": "2024-06-28T02:32:49.446830Z",
          "shell.execute_reply": "2024-06-28T02:32:49.446490Z"
        },
        "colab": {
          "base_uri": "https://localhost:8080/"
        },
        "id": "Oajkmeot3O_7",
        "outputId": "12fb6152-26a6-4bfa-fe0d-240c96286906"
      },
      "outputs": [
        {
          "output_type": "stream",
          "name": "stdout",
          "text": [
            "=== role: system ===\n",
            "ユーザーが入力した料理のレシピを考えてください。\n",
            "\n",
            "The output should be formatted as a JSON instance that conforms to the JSON schema below.\n",
            "\n",
            "As an example, for the schema {\"properties\": {\"foo\": {\"title\": \"Foo\", \"description\": \"a list of strings\", \"type\": \"array\", \"items\": {\"type\": \"string\"}}}, \"required\": [\"foo\"]}\n",
            "the object {\"foo\": [\"bar\", \"baz\"]} is a well-formatted instance of the schema. The object {\"properties\": {\"foo\": [\"bar\", \"baz\"]}} is not well-formatted.\n",
            "\n",
            "Here is the output schema:\n",
            "```\n",
            "{\"properties\": {\"ingredients\": {\"description\": \"ingredients of the dish\", \"items\": {\"type\": \"string\"}, \"title\": \"Ingredients\", \"type\": \"array\"}, \"steps\": {\"description\": \"steps to make the dish\", \"items\": {\"type\": \"string\"}, \"title\": \"Steps\", \"type\": \"array\"}}, \"required\": [\"ingredients\", \"steps\"]}\n",
            "```\n",
            "=== role: user ===\n",
            "カレー\n"
          ]
        }
      ],
      "source": [
        "prompt_value = prompt_with_format_instructions.invoke({\"dish\": \"カレー\"})  # 「カレー」のレシピを考えてもらうようにAIにお願いするよ\n",
        "\n",
        "print(\"=== role: system ===\")  # AIにルールを伝える部分の見出しを表示するよ\n",
        "print(prompt_value.messages[0].content)  # AIに「どうやって答えるか」のルールが書かれた文章を表示するよ\n",
        "\n",
        "print(\"=== role: user ===\")  # 人間からの質問部分の見出しを表示するよ\n",
        "print(prompt_value.messages[1].content)  # 実際に人間が入力した「カレー」という料理名を表示するよ\n"
      ]
    },
    {
      "cell_type": "code",
      "execution_count": null,
      "metadata": {
        "execution": {
          "iopub.execute_input": "2024-06-28T02:32:49.448688Z",
          "iopub.status.busy": "2024-06-28T02:32:49.448466Z",
          "iopub.status.idle": "2024-06-28T02:32:53.559871Z",
          "shell.execute_reply": "2024-06-28T02:32:53.559376Z"
        },
        "colab": {
          "base_uri": "https://localhost:8080/"
        },
        "id": "MavB5LjU3O_7",
        "outputId": "58343d3a-20e5-4685-b0e8-bc62453c1774"
      },
      "outputs": [
        {
          "output_type": "stream",
          "name": "stderr",
          "text": [
            "WARNING:langsmith.client:Failed to multipart ingest runs: langsmith.utils.LangSmithError: Failed to POST https://api.smith.langchain.com/runs/multipart in LangSmith API. HTTPError('403 Client Error: Forbidden for url: https://api.smith.langchain.com/runs/multipart', '{\"error\":\"Forbidden\"}\\n')\n"
          ]
        },
        {
          "output_type": "stream",
          "name": "stdout",
          "text": [
            "{\n",
            "  \"ingredients\": [\n",
            "    \"鶏肉 500g\",\n",
            "    \"玉ねぎ 2個\",\n",
            "    \"にんじん 1本\",\n",
            "    \"じゃがいも 2個\",\n",
            "    \"カレールー 1箱\",\n",
            "    \"水 800ml\",\n",
            "    \"サラダ油 大さじ2\",\n",
            "    \"塩 適量\",\n",
            "    \"こしょう 適量\"\n",
            "  ],\n",
            "  \"steps\": [\n",
            "    \"鶏肉は一口大に切り、塩とこしょうをふる。\",\n",
            "    \"玉ねぎは薄切り、にんじんは輪切り、じゃがいもは一口大に切る。\",\n",
            "    \"鍋にサラダ油を熱し、玉ねぎを炒めて透明になるまで炒める。\",\n",
            "    \"鶏肉を加え、表面が白くなるまで炒める。\",\n",
            "    \"にんじんとじゃがいもを加え、全体を混ぜる。\",\n",
            "    \"水を加え、沸騰したらアクを取り、弱火で20分煮る。\",\n",
            "    \"カレールーを加え、よく溶かしてさらに10分煮込む。\",\n",
            "    \"味を見て、必要に応じて塩で調整する。\",\n",
            "    \"ご飯と一緒に盛り付けて完成。\"\n",
            "  ]\n",
            "}\n"
          ]
        }
      ],
      "source": [
        "from langchain_openai import ChatOpenAI  # OpenAI（AIにおしゃべりしてもらう道具）を使えるようにするよ\n",
        "\n",
        "model = ChatOpenAI(model=\"gpt-4o-mini\", temperature=0)  # gpt-4o-miniっていうAIを使って、答えがブレないようにしてるよ（temperature=0）\n",
        "\n",
        "ai_message = model.invoke(prompt_value)  # AIに「これ考えて！」ってお願いするよ（prompt_valueの中身がそのお願い）\n",
        "\n",
        "print(ai_message.content)  # AIが考えた答えを表示するよ（レシピの答えが見られるよ！）\n"
      ]
    },
    {
      "cell_type": "code",
      "source": [],
      "metadata": {
        "id": "nT0C6nIKBbyl"
      },
      "execution_count": null,
      "outputs": []
    },
    {
      "cell_type": "code",
      "execution_count": null,
      "metadata": {
        "execution": {
          "iopub.execute_input": "2024-06-28T02:32:53.561786Z",
          "iopub.status.busy": "2024-06-28T02:32:53.561632Z",
          "iopub.status.idle": "2024-06-28T02:32:53.572140Z",
          "shell.execute_reply": "2024-06-28T02:32:53.571665Z"
        },
        "colab": {
          "base_uri": "https://localhost:8080/"
        },
        "id": "CKLI4qEc3O_7",
        "outputId": "6e79acaf-aff1-4232-86b4-507f2c1d778e"
      },
      "outputs": [
        {
          "output_type": "stream",
          "name": "stdout",
          "text": [
            "<class '__main__.Recipe'>\n",
            "ingredients=['鶏肉 500g', '玉ねぎ 2個', 'にんじん 1本', 'じゃがいも 2個', 'カレールー 1箱', '水 800ml', 'サラダ油 大さじ2', '塩 適量', 'こしょう 適量'] steps=['鶏肉は一口大に切り、塩とこしょうをふる。', '玉ねぎは薄切り、にんじんは輪切り、じゃがいもは一口大に切る。', '鍋にサラダ油を熱し、玉ねぎを炒めて透明になるまで炒める。', '鶏肉を加え、表面が白くなるまで炒める。', 'にんじんとじゃがいもを加え、全体を混ぜる。', '水を加え、沸騰したらアクを取り、弱火で20分煮る。', 'カレールーを加え、よく溶かしてさらに10分煮込む。', '味を見て、必要に応じて塩で調整する。', 'ご飯と一緒に盛り付けて完成。']\n"
          ]
        }
      ],
      "source": [
        "recipe = output_parser.invoke(ai_message)  # AIの返事（レシピの文章）を、ちゃんとした形（Recipeクラス）に変えるよ\n",
        "\n",
        "print(type(recipe))  # 変換されたデータがどんな種類のものかを表示するよ（たとえば Recipe 型）\n",
        "\n",
        "print(recipe)  # レシピの中身（材料や手順）を見せてくれるよ\n"
      ]
    },
    {
      "cell_type": "markdown",
      "metadata": {
        "id": "O6ayV-6I3O_7"
      },
      "source": [
        "### StrOutputParser\n"
      ]
    },
    {
      "cell_type": "code",
      "execution_count": null,
      "metadata": {
        "execution": {
          "iopub.execute_input": "2024-06-28T02:32:53.614251Z",
          "iopub.status.busy": "2024-06-28T02:32:53.614030Z",
          "iopub.status.idle": "2024-06-28T02:32:53.619857Z",
          "shell.execute_reply": "2024-06-28T02:32:53.619506Z"
        },
        "colab": {
          "base_uri": "https://localhost:8080/"
        },
        "id": "1QFjlw6W3O_8",
        "outputId": "4fb25c12-8ce6-4006-ad54-36f8b0b29955"
      },
      "outputs": [
        {
          "output_type": "stream",
          "name": "stdout",
          "text": [
            "<class 'str'>\n",
            "こんにちは。私はAIアシスタントです。\n"
          ]
        }
      ],
      "source": [
        "from langchain_core.messages import AIMessage  # AIからの返事（メッセージ）を表すためのクラスだよ\n",
        "from langchain_core.output_parsers import StrOutputParser  # AIの返事から文字を取り出す道具だよ\n",
        "\n",
        "output_parser = StrOutputParser()  # パーサー（取り出す係）を用意するよ\n",
        "\n",
        "ai_message = AIMessage(content=\"こんにちは。私はAIアシスタントです。\")  # AIが返してきたメッセージをつくるよ\n",
        "ai_message = output_parser.invoke(ai_message)  # メッセージの中から文字（テキスト）だけを取り出すよ\n",
        "print(type(ai_message))  # 結果がどんな種類のデータかを表示するよ（ここでは「文字列」になるよ）\n",
        "print(ai_message)  # 実際の文字の中身を表示するよ（こんにちは〜って出てくるよ）\n"
      ]
    },
    {
      "cell_type": "markdown",
      "metadata": {
        "id": "ENKw-D7e3O_8"
      },
      "source": [
        "## 4.5.Chain―LangChain Expression Language（LCEL）の概要\n"
      ]
    },
    {
      "cell_type": "markdown",
      "metadata": {
        "id": "1J95zaAS3O_8"
      },
      "source": [
        "### prompt と model の連鎖\n"
      ]
    },
    {
      "cell_type": "code",
      "execution_count": null,
      "metadata": {
        "execution": {
          "iopub.execute_input": "2024-06-28T02:32:53.621888Z",
          "iopub.status.busy": "2024-06-28T02:32:53.621584Z",
          "iopub.status.idle": "2024-06-28T02:32:53.674625Z",
          "shell.execute_reply": "2024-06-28T02:32:53.674143Z"
        },
        "id": "7h-X2qZZ3O_8"
      },
      "outputs": [],
      "source": [
        "from langchain_core.prompts import ChatPromptTemplate  # 🧠 プロンプト（AIにお願いする言葉）のテンプレートを使えるようにするよ\n",
        "from langchain_openai import ChatOpenAI  # 🤖 OpenAIのAIモデルを使うための準備だよ\n",
        "\n",
        "prompt = ChatPromptTemplate.from_messages(  # 📋 AIに渡す会話の流れを作ってるよ\n",
        "    [\n",
        "        (\"system\", \"ユーザーが入力した料理のレシピを考えてください。\"),  # 👩‍🏫「料理のレシピを考えてね」ってAIにルールを伝えてるよ\n",
        "        (\"human\", \"{dish}\"),  # 👦 ユーザーが料理名を入れる場所だよ（たとえば「カレー」とか）\n",
        "    ]\n",
        ")\n",
        "\n",
        "model = ChatOpenAI(model_name=\"gpt-4o-mini\", temperature=0)  # 🤖 「gpt-4o-mini」というAIを使うよ。温度0は「まじめに答えてね」って意味だよ\n"
      ]
    },
    {
      "cell_type": "code",
      "execution_count": null,
      "metadata": {
        "execution": {
          "iopub.execute_input": "2024-06-28T02:32:53.676366Z",
          "iopub.status.busy": "2024-06-28T02:32:53.676220Z",
          "iopub.status.idle": "2024-06-28T02:32:53.678436Z",
          "shell.execute_reply": "2024-06-28T02:32:53.678095Z"
        },
        "id": "MI2RY6gh3O_8"
      },
      "outputs": [],
      "source": [
        "chain = prompt | model  # 📦 プロンプト（お手紙の内容）とAI（読む人）をパイプでつなげて、1つの流れ（チェーン）を作ってるよ\n"
      ]
    },
    {
      "cell_type": "code",
      "execution_count": null,
      "metadata": {
        "execution": {
          "iopub.execute_input": "2024-06-28T02:32:53.680152Z",
          "iopub.status.busy": "2024-06-28T02:32:53.679899Z",
          "iopub.status.idle": "2024-06-28T02:32:59.546328Z",
          "shell.execute_reply": "2024-06-28T02:32:59.544073Z"
        },
        "colab": {
          "base_uri": "https://localhost:8080/"
        },
        "id": "5p9MJI043O_8",
        "outputId": "f1794856-54b9-432c-d437-c6b9b539fbca"
      },
      "outputs": [
        {
          "output_type": "stream",
          "name": "stderr",
          "text": [
            "WARNING:langsmith.client:Failed to multipart ingest runs: langsmith.utils.LangSmithError: Failed to POST https://api.smith.langchain.com/runs/multipart in LangSmith API. HTTPError('403 Client Error: Forbidden for url: https://api.smith.langchain.com/runs/multipart', '{\"error\":\"Forbidden\"}\\n')\n"
          ]
        },
        {
          "output_type": "stream",
          "name": "stdout",
          "text": [
            "カレーのレシピをご紹介します。シンプルで美味しい基本のカレーを作りましょう。\n",
            "\n",
            "### 材料（4人分）\n",
            "- 鶏肉（もも肉または胸肉）: 400g\n",
            "- 玉ねぎ: 2個\n",
            "- にんじん: 1本\n",
            "- じゃがいも: 2個\n",
            "- カレールー: 1箱（約200g）\n",
            "- 水: 800ml\n",
            "- サラダ油: 大さじ2\n",
            "- 塩: 適量\n",
            "- 胡椒: 適量\n",
            "- お好みでガーリックパウダーや生姜: 適量\n",
            "\n",
            "### 作り方\n",
            "1. **材料の下ごしらえ**:\n",
            "   - 鶏肉は一口大に切り、塩と胡椒をふっておきます。\n",
            "   - 玉ねぎは薄切り、にんじんは輪切り、じゃがいもは一口大に切ります。\n",
            "\n",
            "2. **炒める**:\n",
            "   - 大きめの鍋にサラダ油を熱し、玉ねぎを中火で炒めます。玉ねぎが透明になるまで炒めます。\n",
            "   - 鶏肉を加え、表面が白くなるまで炒めます。\n",
            "\n",
            "3. **野菜を加える**:\n",
            "   - にんじんとじゃがいもを鍋に加え、全体をよく混ぜます。\n",
            "\n",
            "4. **煮る**:\n",
            "   - 水を加え、強火で煮立たせます。煮立ったら、アクを取り除き、中火にして蓋をし、約15分煮ます。\n",
            "\n",
            "5. **カレールーを加える**:\n",
            "   - カレールーを割り入れ、よく溶かします。さらに10分ほど煮込み、全体がなじんだら火を止めます。\n",
            "\n",
            "6. **味を調える**:\n",
            "   - お好みでガーリックパウダーや生姜を加え、味を調整します。\n",
            "\n",
            "7. **盛り付け**:\n",
            "   - ご飯と一緒に盛り付けて、完成です。お好みで福神漬けやらっきょうを添えても良いでしょう。\n",
            "\n",
            "### ポイント\n",
            "- 野菜はお好みで追加しても良いです（ピーマン、ナス、ブロッコリーなど）。\n",
            "- カレーは時間が経つほど味がなじむので、作り置きにも最適です。\n",
            "\n",
            "美味しいカレーを楽しんでください！\n"
          ]
        }
      ],
      "source": [
        "ai_message = chain.invoke({\"dish\": \"カレー\"})  # 🧾 「カレー」というお題をAIに送って、レシピをお願いしているよ！\n",
        "print(ai_message.content)  # 📢 AIから返ってきた答え（レシピの内容）を画面に表示しているよ！\n"
      ]
    },
    {
      "cell_type": "markdown",
      "metadata": {
        "id": "tlbQLoHN3O_8"
      },
      "source": [
        "### StrOutputParser を連鎖に追加\n"
      ]
    },
    {
      "cell_type": "code",
      "execution_count": null,
      "metadata": {
        "execution": {
          "iopub.execute_input": "2024-06-28T02:32:59.555286Z",
          "iopub.status.busy": "2024-06-28T02:32:59.554550Z",
          "iopub.status.idle": "2024-06-28T02:33:05.105219Z",
          "shell.execute_reply": "2024-06-28T02:33:05.104783Z"
        },
        "colab": {
          "base_uri": "https://localhost:8080/"
        },
        "id": "Q3Jvupfn3O_8",
        "outputId": "6842d728-a8be-457f-de83-d50d0c88bf15"
      },
      "outputs": [
        {
          "output_type": "stream",
          "name": "stderr",
          "text": [
            "WARNING:langsmith.client:Failed to multipart ingest runs: langsmith.utils.LangSmithError: Failed to POST https://api.smith.langchain.com/runs/multipart in LangSmith API. HTTPError('403 Client Error: Forbidden for url: https://api.smith.langchain.com/runs/multipart', '{\"error\":\"Forbidden\"}\\n')\n"
          ]
        },
        {
          "output_type": "stream",
          "name": "stdout",
          "text": [
            "カレーのレシピをご紹介します！シンプルで美味しい基本のカレーを作りましょう。\n",
            "\n",
            "### 材料（4人分）\n",
            "- 鶏肉（もも肉または胸肉）: 400g\n",
            "- 玉ねぎ: 2個\n",
            "- にんじん: 1本\n",
            "- じゃがいも: 2個\n",
            "- カレールー: 1箱（約200g）\n",
            "- サラダ油: 大さじ2\n",
            "- 水: 800ml\n",
            "- 塩: 適量\n",
            "- 胡椒: 適量\n",
            "- お好みでガーリックパウダーや生姜: 適量\n",
            "\n",
            "### 作り方\n",
            "1. **材料の下ごしらえ**:\n",
            "   - 鶏肉は一口大に切り、塩と胡椒を振っておきます。\n",
            "   - 玉ねぎは薄切り、にんじんは輪切り、じゃがいもは一口大に切ります。\n",
            "\n",
            "2. **炒める**:\n",
            "   - 大きめの鍋にサラダ油を熱し、玉ねぎを中火で炒めます。玉ねぎが透明になるまで炒めます。\n",
            "   - 鶏肉を加え、表面が白くなるまで炒めます。\n",
            "\n",
            "3. **野菜を加える**:\n",
            "   - にんじんとじゃがいもを鍋に加え、全体をよく混ぜます。\n",
            "\n",
            "4. **煮る**:\n",
            "   - 水を加え、強火で煮立たせます。煮立ったら、アクを取り除き、中火にして蓋をし、約15分煮ます。\n",
            "\n",
            "5. **カレールーを加える**:\n",
            "   - カレールーを割り入れ、よく溶かします。さらに10分ほど煮込み、全体がなじんだら火を止めます。\n",
            "\n",
            "6. **味を調える**:\n",
            "   - お好みで塩や胡椒で味を調整します。\n",
            "\n",
            "7. **盛り付け**:\n",
            "   - ご飯と一緒に盛り付けて、お好みで福神漬けやらっきょうを添えて完成です！\n",
            "\n",
            "### おすすめのトッピング\n",
            "- チーズ\n",
            "- 生卵（温泉卵や目玉焼き）\n",
            "- 青ねぎやパセリの刻んだもの\n",
            "\n",
            "この基本のカレーはアレンジがしやすいので、野菜や肉を変えて楽しんでください！おいしいカレーをお楽しみください！\n"
          ]
        }
      ],
      "source": [
        "from langchain_core.output_parsers import StrOutputParser  # 🧰 AIからの返事を「ただの文字」に変える道具を用意してるよ！\n",
        "\n",
        "chain = prompt | model | StrOutputParser()  # 🧵 プロンプト → AI → 文字の形に変換、っていう流れをパイプでつなげてるよ！\n",
        "output = chain.invoke({\"dish\": \"カレー\"})  # 📦 「カレーのレシピを作って！」ってAIにお願いして、答えをもらうよ！\n",
        "print(output)  # 📢 その答え（レシピ）を画面に表示するよ！\n"
      ]
    },
    {
      "cell_type": "markdown",
      "metadata": {
        "id": "_fcJ619b3O_8"
      },
      "source": [
        "### PydanticOutputParser を使う連鎖\n"
      ]
    },
    {
      "cell_type": "code",
      "execution_count": null,
      "metadata": {
        "execution": {
          "iopub.execute_input": "2024-06-28T02:33:05.107198Z",
          "iopub.status.busy": "2024-06-28T02:33:05.107009Z",
          "iopub.status.idle": "2024-06-28T02:33:05.110329Z",
          "shell.execute_reply": "2024-06-28T02:33:05.109967Z"
        },
        "id": "N-d-dY173O_8"
      },
      "outputs": [],
      "source": [
        "from langchain_core.output_parsers import PydanticOutputParser  # 🧙‍♂️ AIの返事をキレイな形に整えてくれる道具を使うよ！\n",
        "from pydantic import BaseModel, Field  # 📐 データの形（設計図）を作るための道具を読み込むよ！\n",
        "\n",
        "class Recipe(BaseModel):  # 🍛 レシピの「型（かた）」を作るよ！\n",
        "    ingredients: list[str] = Field(description=\"ingredients of the dish\")  # 🥕 材料のリスト（たとえば「にんじん」「じゃがいも」など）だよ！\n",
        "    steps: list[str] = Field(description=\"steps to make the dish\")  # 🔪 作り方のステップ（たとえば「炒める」「煮る」など）を書くところだよ！\n",
        "\n",
        "output_parser = PydanticOutputParser(pydantic_object=Recipe)  # 🧹 AIが出した答えをRecipeの形にピタッとはめてくれる道具を作るよ！\n"
      ]
    },
    {
      "cell_type": "code",
      "execution_count": null,
      "metadata": {
        "execution": {
          "iopub.execute_input": "2024-06-28T02:33:05.112162Z",
          "iopub.status.busy": "2024-06-28T02:33:05.111890Z",
          "iopub.status.idle": "2024-06-28T02:33:05.167716Z",
          "shell.execute_reply": "2024-06-28T02:33:05.167216Z"
        },
        "id": "_WE0bUVI3O_8"
      },
      "outputs": [],
      "source": [
        "from langchain_core.prompts import ChatPromptTemplate  # 📦 AIに送るメッセージの形を作る道具\n",
        "from langchain_openai import ChatOpenAI  # 🤖 OpenAIのチャットモデル（AI本体）を使うよ\n",
        "\n",
        "# 📝 AIにお願いするメッセージを決めるよ（{dish}と{format_instructions}はあとで中身を入れる）\n",
        "prompt = ChatPromptTemplate.from_messages(\n",
        "    [\n",
        "        (\"system\", \"ユーザーが入力した料理のレシピを考えてください。\\n\\n{format_instructions}\"),  # 📋 システムメッセージで「レシピを考えてね」と伝える\n",
        "        (\"human\", \"{dish}\"),  # 👤 人間が「カレー」みたいに料理名を入れるところ\n",
        "    ]\n",
        ")\n",
        "\n",
        "# 🧾 AIに答えてほしい形式（JSON）を教えておくよ\n",
        "prompt_with_format_instructions = prompt.partial(\n",
        "    format_instructions=output_parser.get_format_instructions()  # 📐 output_parserで自動生成した「出力ルール」を入れるよ\n",
        ")\n",
        "\n",
        "# 🤖 ChatGPTに「JSON形式で返してね」とお願いしておくよ\n",
        "model = ChatOpenAI(model=\"gpt-4o-mini\", temperature=0).bind(\n",
        "    response_format={\"type\": \"json_object\"}  # 🧊 「AIの返事はJSONだよ」ってルールを指定するよ\n",
        ")\n"
      ]
    },
    {
      "cell_type": "code",
      "execution_count": null,
      "metadata": {
        "execution": {
          "iopub.execute_input": "2024-06-28T02:33:05.169740Z",
          "iopub.status.busy": "2024-06-28T02:33:05.169590Z",
          "iopub.status.idle": "2024-06-28T02:33:05.172044Z",
          "shell.execute_reply": "2024-06-28T02:33:05.171669Z"
        },
        "id": "YA9WOh-Q3O_9"
      },
      "outputs": [],
      "source": [
        "chain = prompt_with_format_instructions | model | output_parser  # 🧩 プロンプト → AI → 出力整形をつなげて、1つの「命令チェーン」を作ってるよ\n"
      ]
    },
    {
      "cell_type": "markdown",
      "source": [],
      "metadata": {
        "id": "WjyLQ51yFLMQ"
      }
    },
    {
      "cell_type": "code",
      "execution_count": null,
      "metadata": {
        "execution": {
          "iopub.execute_input": "2024-06-28T02:33:05.173987Z",
          "iopub.status.busy": "2024-06-28T02:33:05.173667Z",
          "iopub.status.idle": "2024-06-28T02:33:10.259404Z",
          "shell.execute_reply": "2024-06-28T02:33:10.258892Z"
        },
        "colab": {
          "base_uri": "https://localhost:8080/"
        },
        "id": "_l3FG_Ua3O_9",
        "outputId": "80ff1d13-67f4-412d-cf39-c76d03ac7d28"
      },
      "outputs": [
        {
          "output_type": "stream",
          "name": "stderr",
          "text": [
            "WARNING:langsmith.client:Failed to multipart ingest runs: langsmith.utils.LangSmithError: Failed to POST https://api.smith.langchain.com/runs/multipart in LangSmith API. HTTPError('403 Client Error: Forbidden for url: https://api.smith.langchain.com/runs/multipart', '{\"error\":\"Forbidden\"}\\n')\n"
          ]
        },
        {
          "output_type": "stream",
          "name": "stdout",
          "text": [
            "<class '__main__.Recipe'>\n",
            "ingredients=['鶏肉 500g', '玉ねぎ 2個', 'にんじん 1本', 'じゃがいも 2個', 'カレールー 1箱', '水 800ml', 'サラダ油 大さじ2', '塩 適量', 'こしょう 適量'] steps=['鶏肉は一口大に切り、塩とこしょうをふる。', '玉ねぎは薄切り、にんじんは輪切り、じゃがいもは一口大に切る。', '鍋にサラダ油を熱し、玉ねぎを炒めて透明になるまで炒める。', '鶏肉を加え、表面が白くなるまで炒める。', 'にんじんとじゃがいもを加え、さらに炒める。', '水を加え、沸騰したらアクを取り、弱火で20分煮る。', 'カレールーを加え、溶かしながらさらに10分煮込む。', '味を見て、必要に応じて塩で調整する。', 'ご飯と一緒に盛り付けて完成。']\n"
          ]
        }
      ],
      "source": [
        "recipe = chain.invoke({\"dish\": \"カレー\"})  # 🍛 「カレー」のレシピをAIにお願いして、結果をrecipeに入れる\n",
        "print(type(recipe))  # 🧪 recipeの中身のデータの種類（型）を確認するよ（たとえば <class '__main__.Recipe'> って出る）\n",
        "print(recipe)  # 📢 実際のレシピの内容を表示するよ\n"
      ]
    },
    {
      "cell_type": "markdown",
      "metadata": {
        "id": "ySG4hNV03O_9"
      },
      "source": [
        "### （コラム）with_structured_output\n"
      ]
    },
    {
      "cell_type": "code",
      "execution_count": null,
      "metadata": {
        "execution": {
          "iopub.execute_input": "2024-06-28T02:33:10.261391Z",
          "iopub.status.busy": "2024-06-28T02:33:10.261230Z",
          "iopub.status.idle": "2024-06-28T02:33:12.288341Z",
          "shell.execute_reply": "2024-06-28T02:33:12.287844Z"
        },
        "colab": {
          "base_uri": "https://localhost:8080/"
        },
        "id": "i5Ju4ee93O_9",
        "outputId": "01dc8eed-8135-4193-e0bc-2c89c958ad30"
      },
      "outputs": [
        {
          "output_type": "stream",
          "name": "stderr",
          "text": [
            "WARNING:langsmith.client:Failed to multipart ingest runs: langsmith.utils.LangSmithError: Failed to POST https://api.smith.langchain.com/runs/multipart in LangSmith API. HTTPError('403 Client Error: Forbidden for url: https://api.smith.langchain.com/runs/multipart', '{\"error\":\"Forbidden\"}\\n')\n"
          ]
        },
        {
          "output_type": "stream",
          "name": "stdout",
          "text": [
            "<class '__main__.Recipe'>\n",
            "ingredients=['鶏肉', '玉ねぎ', 'じゃがいも', 'にんじん', 'カレールー', '水', '塩', 'こしょう', 'サラダ油'] steps=['鶏肉は一口大に切り、塩とこしょうで下味をつける。', '玉ねぎは薄切り、じゃがいもとにんじんは一口大に切る。', '鍋にサラダ油を熱し、玉ねぎを炒めて透明になるまで炒める。', '鶏肉を加え、表面が白くなるまで炒める。', 'じゃがいもとにんじんを加えて軽く炒める。', '水を加え、煮立ったらアクを取り除く。', '蓋をして中火で約15分煮る。', 'カレールーを加え、よく溶かしてさらに10分煮る。', '味を見て必要なら塩で調整する。', 'ご飯と一緒に盛り付けて完成。']\n"
          ]
        }
      ],
      "source": [
        "from langchain_core.prompts import ChatPromptTemplate  # 🤖 AIにどんな質問をするかの「型（テンプレート）」を使うよ\n",
        "from langchain_openai import ChatOpenAI  # 🧠 OpenAI（ChatGPT）を使うための準備\n",
        "from pydantic import BaseModel, Field  # 📦 レシピの「材料」と「手順」を入れる箱（クラス）を作るための道具\n",
        "\n",
        "class Recipe(BaseModel):  # 🍽 レシピの形を定義するよ（材料と作り方を入れる）\n",
        "    ingredients: list[str] = Field(description=\"ingredients of the dish\")  # 📋 材料のリスト\n",
        "    steps: list[str] = Field(description=\"steps to make the dish\")  # 🧑‍🍳 作り方の手順リスト\n",
        "\n",
        "prompt = ChatPromptTemplate.from_messages(  # 🗣 会話の流れを作るよ（誰が何を言うか）\n",
        "    [\n",
        "        (\"system\", \"ユーザーが入力した料理のレシピを考えてください。\"),  # 📢 AIへのルール説明\n",
        "        (\"human\", \"{dish}\"),  # 🙋‍♂️ ユーザーが料理名（カレーなど）を入力するところ\n",
        "    ]\n",
        ")\n",
        "\n",
        "model = ChatOpenAI(model=\"gpt-4o-mini\")  # 🧠 軽くて速いAIモデルを使うよ（GPT-4o mini）\n",
        "\n",
        "chain = prompt | model.with_structured_output(Recipe)  # 🔗 入力→AI→レシピ形式に変換までをつなげたよ！\n",
        "\n",
        "recipe = chain.invoke({\"dish\": \"カレー\"})  # 🍛 「カレー」のレシピを作ってもらう\n",
        "print(type(recipe))  # 📦 レシピのデータの型（ちゃんとRecipe型になってるか）を確認\n",
        "print(recipe)  # 📢 レシピの中身を表示（材料と手順）\n"
      ]
    },
    {
      "cell_type": "markdown",
      "metadata": {
        "id": "naLkRx8t3O_9"
      },
      "source": [
        "## 4.6.LangChain の RAG に関するコンポーネント\n"
      ]
    },
    {
      "cell_type": "markdown",
      "metadata": {
        "id": "fCEDDsKt3O_9"
      },
      "source": [
        "### Document loader\n"
      ]
    },
    {
      "cell_type": "markdown",
      "source": [],
      "metadata": {
        "id": "Zw3_zDPYKG_8"
      }
    },
    {
      "cell_type": "code",
      "execution_count": null,
      "metadata": {
        "colab": {
          "base_uri": "https://localhost:8080/"
        },
        "id": "v9OmvsC83O_9",
        "outputId": "af1d9bbb-4855-4852-e649-069d448b3a18"
      },
      "outputs": [
        {
          "output_type": "stream",
          "name": "stdout",
          "text": [
            "Requirement already satisfied: langchain-community==0.3.0 in /usr/local/lib/python3.11/dist-packages (0.3.0)\n",
            "Requirement already satisfied: GitPython==3.1.43 in /usr/local/lib/python3.11/dist-packages (3.1.43)\n",
            "Requirement already satisfied: PyYAML>=5.3 in /usr/local/lib/python3.11/dist-packages (from langchain-community==0.3.0) (6.0.2)\n",
            "Requirement already satisfied: SQLAlchemy<3,>=1.4 in /usr/local/lib/python3.11/dist-packages (from langchain-community==0.3.0) (2.0.41)\n",
            "Requirement already satisfied: aiohttp<4.0.0,>=3.8.3 in /usr/local/lib/python3.11/dist-packages (from langchain-community==0.3.0) (3.11.15)\n",
            "Requirement already satisfied: dataclasses-json<0.7,>=0.5.7 in /usr/local/lib/python3.11/dist-packages (from langchain-community==0.3.0) (0.6.7)\n",
            "Requirement already satisfied: langchain<0.4.0,>=0.3.0 in /usr/local/lib/python3.11/dist-packages (from langchain-community==0.3.0) (0.3.25)\n",
            "Requirement already satisfied: langchain-core<0.4.0,>=0.3.0 in /usr/local/lib/python3.11/dist-packages (from langchain-community==0.3.0) (0.3.0)\n",
            "Requirement already satisfied: langsmith<0.2.0,>=0.1.112 in /usr/local/lib/python3.11/dist-packages (from langchain-community==0.3.0) (0.1.147)\n",
            "Requirement already satisfied: numpy<2,>=1 in /usr/local/lib/python3.11/dist-packages (from langchain-community==0.3.0) (1.26.4)\n",
            "Requirement already satisfied: pydantic-settings<3.0.0,>=2.4.0 in /usr/local/lib/python3.11/dist-packages (from langchain-community==0.3.0) (2.10.1)\n",
            "Requirement already satisfied: requests<3,>=2 in /usr/local/lib/python3.11/dist-packages (from langchain-community==0.3.0) (2.32.3)\n",
            "Requirement already satisfied: tenacity!=8.4.0,<9.0.0,>=8.1.0 in /usr/local/lib/python3.11/dist-packages (from langchain-community==0.3.0) (8.5.0)\n",
            "Requirement already satisfied: gitdb<5,>=4.0.1 in /usr/local/lib/python3.11/dist-packages (from GitPython==3.1.43) (4.0.12)\n",
            "Requirement already satisfied: aiohappyeyeballs>=2.3.0 in /usr/local/lib/python3.11/dist-packages (from aiohttp<4.0.0,>=3.8.3->langchain-community==0.3.0) (2.6.1)\n",
            "Requirement already satisfied: aiosignal>=1.1.2 in /usr/local/lib/python3.11/dist-packages (from aiohttp<4.0.0,>=3.8.3->langchain-community==0.3.0) (1.3.2)\n",
            "Requirement already satisfied: attrs>=17.3.0 in /usr/local/lib/python3.11/dist-packages (from aiohttp<4.0.0,>=3.8.3->langchain-community==0.3.0) (25.3.0)\n",
            "Requirement already satisfied: frozenlist>=1.1.1 in /usr/local/lib/python3.11/dist-packages (from aiohttp<4.0.0,>=3.8.3->langchain-community==0.3.0) (1.7.0)\n",
            "Requirement already satisfied: multidict<7.0,>=4.5 in /usr/local/lib/python3.11/dist-packages (from aiohttp<4.0.0,>=3.8.3->langchain-community==0.3.0) (6.4.4)\n",
            "Requirement already satisfied: propcache>=0.2.0 in /usr/local/lib/python3.11/dist-packages (from aiohttp<4.0.0,>=3.8.3->langchain-community==0.3.0) (0.3.2)\n",
            "Requirement already satisfied: yarl<2.0,>=1.17.0 in /usr/local/lib/python3.11/dist-packages (from aiohttp<4.0.0,>=3.8.3->langchain-community==0.3.0) (1.20.1)\n",
            "Requirement already satisfied: marshmallow<4.0.0,>=3.18.0 in /usr/local/lib/python3.11/dist-packages (from dataclasses-json<0.7,>=0.5.7->langchain-community==0.3.0) (3.26.1)\n",
            "Requirement already satisfied: typing-inspect<1,>=0.4.0 in /usr/local/lib/python3.11/dist-packages (from dataclasses-json<0.7,>=0.5.7->langchain-community==0.3.0) (0.9.0)\n",
            "Requirement already satisfied: smmap<6,>=3.0.1 in /usr/local/lib/python3.11/dist-packages (from gitdb<5,>=4.0.1->GitPython==3.1.43) (5.0.2)\n",
            "Collecting langchain-core<0.4.0,>=0.3.0 (from langchain-community==0.3.0)\n",
            "  Using cached langchain_core-0.3.66-py3-none-any.whl.metadata (5.8 kB)\n",
            "Collecting langchain-text-splitters<1.0.0,>=0.3.8 (from langchain<0.4.0,>=0.3.0->langchain-community==0.3.0)\n",
            "  Downloading langchain_text_splitters-0.3.8-py3-none-any.whl.metadata (1.9 kB)\n",
            "Requirement already satisfied: pydantic<3.0.0,>=2.7.4 in /usr/local/lib/python3.11/dist-packages (from langchain<0.4.0,>=0.3.0->langchain-community==0.3.0) (2.10.6)\n",
            "INFO: pip is looking at multiple versions of langchain-core to determine which version is compatible with other requirements. This could take a while.\n",
            "Collecting langchain-core<0.4.0,>=0.3.0 (from langchain-community==0.3.0)\n",
            "  Using cached langchain_core-0.3.65-py3-none-any.whl.metadata (5.8 kB)\n",
            "  Using cached langchain_core-0.3.64-py3-none-any.whl.metadata (5.8 kB)\n",
            "  Using cached langchain_core-0.3.63-py3-none-any.whl.metadata (5.8 kB)\n",
            "Requirement already satisfied: jsonpatch<2.0,>=1.33 in /usr/local/lib/python3.11/dist-packages (from langchain-core<0.4.0,>=0.3.0->langchain-community==0.3.0) (1.33)\n",
            "Requirement already satisfied: packaging<25,>=23.2 in /usr/local/lib/python3.11/dist-packages (from langchain-core<0.4.0,>=0.3.0->langchain-community==0.3.0) (24.2)\n",
            "Requirement already satisfied: typing-extensions>=4.7 in /usr/local/lib/python3.11/dist-packages (from langchain-core<0.4.0,>=0.3.0->langchain-community==0.3.0) (4.14.0)\n",
            "Requirement already satisfied: httpx<1,>=0.23.0 in /usr/local/lib/python3.11/dist-packages (from langsmith<0.2.0,>=0.1.112->langchain-community==0.3.0) (0.28.1)\n",
            "Requirement already satisfied: orjson<4.0.0,>=3.9.14 in /usr/local/lib/python3.11/dist-packages (from langsmith<0.2.0,>=0.1.112->langchain-community==0.3.0) (3.10.18)\n",
            "Requirement already satisfied: requests-toolbelt<2.0.0,>=1.0.0 in /usr/local/lib/python3.11/dist-packages (from langsmith<0.2.0,>=0.1.112->langchain-community==0.3.0) (1.0.0)\n",
            "Requirement already satisfied: python-dotenv>=0.21.0 in /usr/local/lib/python3.11/dist-packages (from pydantic-settings<3.0.0,>=2.4.0->langchain-community==0.3.0) (1.1.1)\n",
            "Requirement already satisfied: typing-inspection>=0.4.0 in /usr/local/lib/python3.11/dist-packages (from pydantic-settings<3.0.0,>=2.4.0->langchain-community==0.3.0) (0.4.1)\n",
            "Requirement already satisfied: charset-normalizer<4,>=2 in /usr/local/lib/python3.11/dist-packages (from requests<3,>=2->langchain-community==0.3.0) (3.4.2)\n",
            "Requirement already satisfied: idna<4,>=2.5 in /usr/local/lib/python3.11/dist-packages (from requests<3,>=2->langchain-community==0.3.0) (3.10)\n",
            "Requirement already satisfied: urllib3<3,>=1.21.1 in /usr/local/lib/python3.11/dist-packages (from requests<3,>=2->langchain-community==0.3.0) (2.4.0)\n",
            "Requirement already satisfied: certifi>=2017.4.17 in /usr/local/lib/python3.11/dist-packages (from requests<3,>=2->langchain-community==0.3.0) (2025.6.15)\n",
            "Requirement already satisfied: greenlet>=1 in /usr/local/lib/python3.11/dist-packages (from SQLAlchemy<3,>=1.4->langchain-community==0.3.0) (3.2.3)\n",
            "Requirement already satisfied: anyio in /usr/local/lib/python3.11/dist-packages (from httpx<1,>=0.23.0->langsmith<0.2.0,>=0.1.112->langchain-community==0.3.0) (4.9.0)\n",
            "Requirement already satisfied: httpcore==1.* in /usr/local/lib/python3.11/dist-packages (from httpx<1,>=0.23.0->langsmith<0.2.0,>=0.1.112->langchain-community==0.3.0) (1.0.9)\n",
            "Requirement already satisfied: h11>=0.16 in /usr/local/lib/python3.11/dist-packages (from httpcore==1.*->httpx<1,>=0.23.0->langsmith<0.2.0,>=0.1.112->langchain-community==0.3.0) (0.16.0)\n",
            "Requirement already satisfied: jsonpointer>=1.9 in /usr/local/lib/python3.11/dist-packages (from jsonpatch<2.0,>=1.33->langchain-core<0.4.0,>=0.3.0->langchain-community==0.3.0) (3.0.0)\n",
            "Requirement already satisfied: annotated-types>=0.6.0 in /usr/local/lib/python3.11/dist-packages (from pydantic<3.0.0,>=2.7.4->langchain<0.4.0,>=0.3.0->langchain-community==0.3.0) (0.7.0)\n",
            "Requirement already satisfied: pydantic-core==2.27.2 in /usr/local/lib/python3.11/dist-packages (from pydantic<3.0.0,>=2.7.4->langchain<0.4.0,>=0.3.0->langchain-community==0.3.0) (2.27.2)\n",
            "Requirement already satisfied: mypy-extensions>=0.3.0 in /usr/local/lib/python3.11/dist-packages (from typing-inspect<1,>=0.4.0->dataclasses-json<0.7,>=0.5.7->langchain-community==0.3.0) (1.1.0)\n",
            "Requirement already satisfied: sniffio>=1.1 in /usr/local/lib/python3.11/dist-packages (from anyio->httpx<1,>=0.23.0->langsmith<0.2.0,>=0.1.112->langchain-community==0.3.0) (1.3.1)\n",
            "Using cached langchain_core-0.3.63-py3-none-any.whl (438 kB)\n",
            "Downloading langchain_text_splitters-0.3.8-py3-none-any.whl (32 kB)\n",
            "Installing collected packages: langchain-core, langchain-text-splitters\n",
            "  Attempting uninstall: langchain-core\n",
            "    Found existing installation: langchain-core 0.3.0\n",
            "    Uninstalling langchain-core-0.3.0:\n",
            "      Successfully uninstalled langchain-core-0.3.0\n",
            "  Attempting uninstall: langchain-text-splitters\n",
            "    Found existing installation: langchain-text-splitters 0.3.0\n",
            "    Uninstalling langchain-text-splitters-0.3.0:\n",
            "      Successfully uninstalled langchain-text-splitters-0.3.0\n",
            "Successfully installed langchain-core-0.3.63 langchain-text-splitters-0.3.8\n"
          ]
        }
      ],
      "source": [
        "!pip install langchain-community==0.3.0 GitPython==3.1.43"
      ]
    },
    {
      "cell_type": "code",
      "execution_count": null,
      "metadata": {
        "colab": {
          "base_uri": "https://localhost:8080/"
        },
        "id": "PIBua1YF3O_9",
        "outputId": "5fa12eb2-1b18-49d1-ff87-bcd6fd58f29d"
      },
      "outputs": [
        {
          "output_type": "stream",
          "name": "stdout",
          "text": [
            "418\n"
          ]
        }
      ],
      "source": [
        "from langchain_community.document_loaders import GitLoader  # GitHubからファイルを読み込む道具を使うよ\n",
        "\n",
        "def file_filter(file_path: str) -> bool:  # ファイルの名前をチェックする関数を作るよ\n",
        "    return file_path.endswith(\".mdx\")  # 「.mdx」で終わるファイルだけOKにするよ\n",
        "\n",
        "loader = GitLoader(  # GitHubからファイルを読み込むためのローダーを作るよ\n",
        "    clone_url=\"https://github.com/langchain-ai/langchain\",  # GitHubの場所を指定するよ\n",
        "    repo_path=\"./langchain\",  # ここにダウンロードして保存するよ\n",
        "    branch=\"master\",  # 「master」ブランチを使うよ（最新の情報がある場所）\n",
        "    file_filter=file_filter,  # さっき作った「.mdxだけ選ぶ」ルールを使うよ\n",
        ")\n",
        "\n",
        "raw_docs = loader.load()  # ファイルを全部読み込むよ\n",
        "print(len(raw_docs))  # 読み込んだファイルの数を表示するよ\n"
      ]
    },
    {
      "cell_type": "markdown",
      "metadata": {
        "id": "6hj7Al_D3O_9"
      },
      "source": [
        "### Document transformer\n"
      ]
    },
    {
      "cell_type": "code",
      "execution_count": null,
      "metadata": {
        "colab": {
          "base_uri": "https://localhost:8080/"
        },
        "id": "Fa3sv8Ep3O_9",
        "outputId": "c34c479a-4d8a-4c0c-a725-3092b48ba85e"
      },
      "outputs": [
        {
          "output_type": "stream",
          "name": "stdout",
          "text": [
            "Collecting langchain-text-splitters==0.3.0\n",
            "  Using cached langchain_text_splitters-0.3.0-py3-none-any.whl.metadata (2.3 kB)\n",
            "Requirement already satisfied: langchain-core<0.4.0,>=0.3.0 in /usr/local/lib/python3.11/dist-packages (from langchain-text-splitters==0.3.0) (0.3.63)\n",
            "Requirement already satisfied: langsmith<0.4,>=0.1.126 in /usr/local/lib/python3.11/dist-packages (from langchain-core<0.4.0,>=0.3.0->langchain-text-splitters==0.3.0) (0.1.147)\n",
            "Requirement already satisfied: tenacity!=8.4.0,<10.0.0,>=8.1.0 in /usr/local/lib/python3.11/dist-packages (from langchain-core<0.4.0,>=0.3.0->langchain-text-splitters==0.3.0) (8.5.0)\n",
            "Requirement already satisfied: jsonpatch<2.0,>=1.33 in /usr/local/lib/python3.11/dist-packages (from langchain-core<0.4.0,>=0.3.0->langchain-text-splitters==0.3.0) (1.33)\n",
            "Requirement already satisfied: PyYAML>=5.3 in /usr/local/lib/python3.11/dist-packages (from langchain-core<0.4.0,>=0.3.0->langchain-text-splitters==0.3.0) (6.0.2)\n",
            "Requirement already satisfied: packaging<25,>=23.2 in /usr/local/lib/python3.11/dist-packages (from langchain-core<0.4.0,>=0.3.0->langchain-text-splitters==0.3.0) (24.2)\n",
            "Requirement already satisfied: typing-extensions>=4.7 in /usr/local/lib/python3.11/dist-packages (from langchain-core<0.4.0,>=0.3.0->langchain-text-splitters==0.3.0) (4.14.0)\n",
            "Requirement already satisfied: pydantic>=2.7.4 in /usr/local/lib/python3.11/dist-packages (from langchain-core<0.4.0,>=0.3.0->langchain-text-splitters==0.3.0) (2.10.6)\n",
            "Requirement already satisfied: jsonpointer>=1.9 in /usr/local/lib/python3.11/dist-packages (from jsonpatch<2.0,>=1.33->langchain-core<0.4.0,>=0.3.0->langchain-text-splitters==0.3.0) (3.0.0)\n",
            "Requirement already satisfied: httpx<1,>=0.23.0 in /usr/local/lib/python3.11/dist-packages (from langsmith<0.4,>=0.1.126->langchain-core<0.4.0,>=0.3.0->langchain-text-splitters==0.3.0) (0.28.1)\n",
            "Requirement already satisfied: orjson<4.0.0,>=3.9.14 in /usr/local/lib/python3.11/dist-packages (from langsmith<0.4,>=0.1.126->langchain-core<0.4.0,>=0.3.0->langchain-text-splitters==0.3.0) (3.10.18)\n",
            "Requirement already satisfied: requests<3,>=2 in /usr/local/lib/python3.11/dist-packages (from langsmith<0.4,>=0.1.126->langchain-core<0.4.0,>=0.3.0->langchain-text-splitters==0.3.0) (2.32.3)\n",
            "Requirement already satisfied: requests-toolbelt<2.0.0,>=1.0.0 in /usr/local/lib/python3.11/dist-packages (from langsmith<0.4,>=0.1.126->langchain-core<0.4.0,>=0.3.0->langchain-text-splitters==0.3.0) (1.0.0)\n",
            "Requirement already satisfied: annotated-types>=0.6.0 in /usr/local/lib/python3.11/dist-packages (from pydantic>=2.7.4->langchain-core<0.4.0,>=0.3.0->langchain-text-splitters==0.3.0) (0.7.0)\n",
            "Requirement already satisfied: pydantic-core==2.27.2 in /usr/local/lib/python3.11/dist-packages (from pydantic>=2.7.4->langchain-core<0.4.0,>=0.3.0->langchain-text-splitters==0.3.0) (2.27.2)\n",
            "Requirement already satisfied: anyio in /usr/local/lib/python3.11/dist-packages (from httpx<1,>=0.23.0->langsmith<0.4,>=0.1.126->langchain-core<0.4.0,>=0.3.0->langchain-text-splitters==0.3.0) (4.9.0)\n",
            "Requirement already satisfied: certifi in /usr/local/lib/python3.11/dist-packages (from httpx<1,>=0.23.0->langsmith<0.4,>=0.1.126->langchain-core<0.4.0,>=0.3.0->langchain-text-splitters==0.3.0) (2025.6.15)\n",
            "Requirement already satisfied: httpcore==1.* in /usr/local/lib/python3.11/dist-packages (from httpx<1,>=0.23.0->langsmith<0.4,>=0.1.126->langchain-core<0.4.0,>=0.3.0->langchain-text-splitters==0.3.0) (1.0.9)\n",
            "Requirement already satisfied: idna in /usr/local/lib/python3.11/dist-packages (from httpx<1,>=0.23.0->langsmith<0.4,>=0.1.126->langchain-core<0.4.0,>=0.3.0->langchain-text-splitters==0.3.0) (3.10)\n",
            "Requirement already satisfied: h11>=0.16 in /usr/local/lib/python3.11/dist-packages (from httpcore==1.*->httpx<1,>=0.23.0->langsmith<0.4,>=0.1.126->langchain-core<0.4.0,>=0.3.0->langchain-text-splitters==0.3.0) (0.16.0)\n",
            "Requirement already satisfied: charset-normalizer<4,>=2 in /usr/local/lib/python3.11/dist-packages (from requests<3,>=2->langsmith<0.4,>=0.1.126->langchain-core<0.4.0,>=0.3.0->langchain-text-splitters==0.3.0) (3.4.2)\n",
            "Requirement already satisfied: urllib3<3,>=1.21.1 in /usr/local/lib/python3.11/dist-packages (from requests<3,>=2->langsmith<0.4,>=0.1.126->langchain-core<0.4.0,>=0.3.0->langchain-text-splitters==0.3.0) (2.4.0)\n",
            "Requirement already satisfied: sniffio>=1.1 in /usr/local/lib/python3.11/dist-packages (from anyio->httpx<1,>=0.23.0->langsmith<0.4,>=0.1.126->langchain-core<0.4.0,>=0.3.0->langchain-text-splitters==0.3.0) (1.3.1)\n",
            "Using cached langchain_text_splitters-0.3.0-py3-none-any.whl (25 kB)\n",
            "Installing collected packages: langchain-text-splitters\n",
            "  Attempting uninstall: langchain-text-splitters\n",
            "    Found existing installation: langchain-text-splitters 0.3.8\n",
            "    Uninstalling langchain-text-splitters-0.3.8:\n",
            "      Successfully uninstalled langchain-text-splitters-0.3.8\n",
            "\u001b[31mERROR: pip's dependency resolver does not currently take into account all the packages that are installed. This behaviour is the source of the following dependency conflicts.\n",
            "langchain 0.3.25 requires langchain-text-splitters<1.0.0,>=0.3.8, but you have langchain-text-splitters 0.3.0 which is incompatible.\u001b[0m\u001b[31m\n",
            "\u001b[0mSuccessfully installed langchain-text-splitters-0.3.0\n"
          ]
        }
      ],
      "source": [
        "!pip install langchain-text-splitters==0.3.0  # テキストを分ける道具をインストールするよ（バージョン0.3.0）\n"
      ]
    },
    {
      "cell_type": "code",
      "execution_count": null,
      "metadata": {
        "colab": {
          "base_uri": "https://localhost:8080/"
        },
        "id": "82S3KZ3C3O_-",
        "outputId": "b264d866-aaeb-47bc-eff0-4bb13598c92a"
      },
      "outputs": [
        {
          "output_type": "stream",
          "name": "stderr",
          "text": [
            "WARNING:langchain_text_splitters.base:Created a chunk of size 6803, which is longer than the specified 1000\n",
            "WARNING:langchain_text_splitters.base:Created a chunk of size 3302, which is longer than the specified 1000\n",
            "WARNING:langchain_text_splitters.base:Created a chunk of size 1851, which is longer than the specified 1000\n",
            "WARNING:langchain_text_splitters.base:Created a chunk of size 1639, which is longer than the specified 1000\n",
            "WARNING:langchain_text_splitters.base:Created a chunk of size 9269, which is longer than the specified 1000\n",
            "WARNING:langchain_text_splitters.base:Created a chunk of size 2579, which is longer than the specified 1000\n",
            "WARNING:langchain_text_splitters.base:Created a chunk of size 17715, which is longer than the specified 1000\n",
            "WARNING:langchain_text_splitters.base:Created a chunk of size 1700, which is longer than the specified 1000\n",
            "WARNING:langchain_text_splitters.base:Created a chunk of size 1135, which is longer than the specified 1000\n",
            "WARNING:langchain_text_splitters.base:Created a chunk of size 1126, which is longer than the specified 1000\n",
            "WARNING:langchain_text_splitters.base:Created a chunk of size 1098, which is longer than the specified 1000\n",
            "WARNING:langchain_text_splitters.base:Created a chunk of size 1433, which is longer than the specified 1000\n",
            "WARNING:langchain_text_splitters.base:Created a chunk of size 1300, which is longer than the specified 1000\n",
            "WARNING:langchain_text_splitters.base:Created a chunk of size 1166, which is longer than the specified 1000\n",
            "WARNING:langchain_text_splitters.base:Created a chunk of size 1351, which is longer than the specified 1000\n",
            "WARNING:langchain_text_splitters.base:Created a chunk of size 1756, which is longer than the specified 1000\n",
            "WARNING:langchain_text_splitters.base:Created a chunk of size 1643, which is longer than the specified 1000\n",
            "WARNING:langchain_text_splitters.base:Created a chunk of size 1091, which is longer than the specified 1000\n",
            "WARNING:langchain_text_splitters.base:Created a chunk of size 1313, which is longer than the specified 1000\n",
            "WARNING:langchain_text_splitters.base:Created a chunk of size 1422, which is longer than the specified 1000\n",
            "WARNING:langchain_text_splitters.base:Created a chunk of size 1662, which is longer than the specified 1000\n",
            "WARNING:langchain_text_splitters.base:Created a chunk of size 1123, which is longer than the specified 1000\n",
            "WARNING:langchain_text_splitters.base:Created a chunk of size 1174, which is longer than the specified 1000\n",
            "WARNING:langchain_text_splitters.base:Created a chunk of size 1936, which is longer than the specified 1000\n",
            "WARNING:langchain_text_splitters.base:Created a chunk of size 1441, which is longer than the specified 1000\n",
            "WARNING:langchain_text_splitters.base:Created a chunk of size 1498, which is longer than the specified 1000\n",
            "WARNING:langchain_text_splitters.base:Created a chunk of size 1046, which is longer than the specified 1000\n",
            "WARNING:langchain_text_splitters.base:Created a chunk of size 1057, which is longer than the specified 1000\n",
            "WARNING:langchain_text_splitters.base:Created a chunk of size 1363, which is longer than the specified 1000\n",
            "WARNING:langchain_text_splitters.base:Created a chunk of size 1432, which is longer than the specified 1000\n",
            "WARNING:langchain_text_splitters.base:Created a chunk of size 1662, which is longer than the specified 1000\n",
            "WARNING:langchain_text_splitters.base:Created a chunk of size 1281, which is longer than the specified 1000\n",
            "WARNING:langchain_text_splitters.base:Created a chunk of size 1752, which is longer than the specified 1000\n",
            "WARNING:langchain_text_splitters.base:Created a chunk of size 1705, which is longer than the specified 1000\n",
            "WARNING:langchain_text_splitters.base:Created a chunk of size 1266, which is longer than the specified 1000\n",
            "WARNING:langchain_text_splitters.base:Created a chunk of size 1764, which is longer than the specified 1000\n",
            "WARNING:langchain_text_splitters.base:Created a chunk of size 1378, which is longer than the specified 1000\n",
            "WARNING:langchain_text_splitters.base:Created a chunk of size 1596, which is longer than the specified 1000\n",
            "WARNING:langchain_text_splitters.base:Created a chunk of size 1063, which is longer than the specified 1000\n",
            "WARNING:langchain_text_splitters.base:Created a chunk of size 1540, which is longer than the specified 1000\n",
            "WARNING:langchain_text_splitters.base:Created a chunk of size 1888, which is longer than the specified 1000\n",
            "WARNING:langchain_text_splitters.base:Created a chunk of size 1739, which is longer than the specified 1000\n",
            "WARNING:langchain_text_splitters.base:Created a chunk of size 42090, which is longer than the specified 1000\n",
            "WARNING:langchain_text_splitters.base:Created a chunk of size 1147, which is longer than the specified 1000\n",
            "WARNING:langchain_text_splitters.base:Created a chunk of size 5835, which is longer than the specified 1000\n",
            "WARNING:langchain_text_splitters.base:Created a chunk of size 1819, which is longer than the specified 1000\n",
            "WARNING:langchain_text_splitters.base:Created a chunk of size 1182, which is longer than the specified 1000\n",
            "WARNING:langchain_text_splitters.base:Created a chunk of size 3563, which is longer than the specified 1000\n",
            "WARNING:langchain_text_splitters.base:Created a chunk of size 1053, which is longer than the specified 1000\n",
            "WARNING:langchain_text_splitters.base:Created a chunk of size 1140, which is longer than the specified 1000\n",
            "WARNING:langchain_text_splitters.base:Created a chunk of size 5053, which is longer than the specified 1000\n",
            "WARNING:langchain_text_splitters.base:Created a chunk of size 1006, which is longer than the specified 1000\n",
            "WARNING:langchain_text_splitters.base:Created a chunk of size 1651, which is longer than the specified 1000\n",
            "WARNING:langchain_text_splitters.base:Created a chunk of size 2096, which is longer than the specified 1000\n",
            "WARNING:langchain_text_splitters.base:Created a chunk of size 8206, which is longer than the specified 1000\n",
            "WARNING:langchain_text_splitters.base:Created a chunk of size 2933, which is longer than the specified 1000\n",
            "WARNING:langchain_text_splitters.base:Created a chunk of size 2134, which is longer than the specified 1000\n",
            "WARNING:langchain_text_splitters.base:Created a chunk of size 1915, which is longer than the specified 1000\n",
            "WARNING:langchain_text_splitters.base:Created a chunk of size 1129, which is longer than the specified 1000\n",
            "WARNING:langchain_text_splitters.base:Created a chunk of size 1021, which is longer than the specified 1000\n",
            "WARNING:langchain_text_splitters.base:Created a chunk of size 1393, which is longer than the specified 1000\n",
            "WARNING:langchain_text_splitters.base:Created a chunk of size 2357, which is longer than the specified 1000\n",
            "WARNING:langchain_text_splitters.base:Created a chunk of size 2373, which is longer than the specified 1000\n",
            "WARNING:langchain_text_splitters.base:Created a chunk of size 2989, which is longer than the specified 1000\n",
            "WARNING:langchain_text_splitters.base:Created a chunk of size 2736, which is longer than the specified 1000\n",
            "WARNING:langchain_text_splitters.base:Created a chunk of size 1208, which is longer than the specified 1000\n",
            "WARNING:langchain_text_splitters.base:Created a chunk of size 1048, which is longer than the specified 1000\n",
            "WARNING:langchain_text_splitters.base:Created a chunk of size 1083, which is longer than the specified 1000\n",
            "WARNING:langchain_text_splitters.base:Created a chunk of size 1014, which is longer than the specified 1000\n",
            "WARNING:langchain_text_splitters.base:Created a chunk of size 1044, which is longer than the specified 1000\n",
            "WARNING:langchain_text_splitters.base:Created a chunk of size 1012, which is longer than the specified 1000\n",
            "WARNING:langchain_text_splitters.base:Created a chunk of size 1438, which is longer than the specified 1000\n",
            "WARNING:langchain_text_splitters.base:Created a chunk of size 1141, which is longer than the specified 1000\n",
            "WARNING:langchain_text_splitters.base:Created a chunk of size 1036, which is longer than the specified 1000\n",
            "WARNING:langchain_text_splitters.base:Created a chunk of size 1137, which is longer than the specified 1000\n",
            "WARNING:langchain_text_splitters.base:Created a chunk of size 1113, which is longer than the specified 1000\n",
            "WARNING:langchain_text_splitters.base:Created a chunk of size 1337, which is longer than the specified 1000\n",
            "WARNING:langchain_text_splitters.base:Created a chunk of size 1162, which is longer than the specified 1000\n",
            "WARNING:langchain_text_splitters.base:Created a chunk of size 1011, which is longer than the specified 1000\n",
            "WARNING:langchain_text_splitters.base:Created a chunk of size 1158, which is longer than the specified 1000\n",
            "WARNING:langchain_text_splitters.base:Created a chunk of size 3603, which is longer than the specified 1000\n",
            "WARNING:langchain_text_splitters.base:Created a chunk of size 1330, which is longer than the specified 1000\n",
            "WARNING:langchain_text_splitters.base:Created a chunk of size 1188, which is longer than the specified 1000\n",
            "WARNING:langchain_text_splitters.base:Created a chunk of size 1170, which is longer than the specified 1000\n",
            "WARNING:langchain_text_splitters.base:Created a chunk of size 1443, which is longer than the specified 1000\n",
            "WARNING:langchain_text_splitters.base:Created a chunk of size 3138, which is longer than the specified 1000\n",
            "WARNING:langchain_text_splitters.base:Created a chunk of size 1121, which is longer than the specified 1000\n"
          ]
        },
        {
          "output_type": "stream",
          "name": "stdout",
          "text": [
            "1454\n"
          ]
        }
      ],
      "source": [
        "from langchain_text_splitters import CharacterTextSplitter  # 文字で文章を分ける道具を使うよ\n",
        "\n",
        "text_splitter = CharacterTextSplitter(chunk_size=1000, chunk_overlap=0)  # 1000文字ずつ切るよ、重なりはなしだよ\n",
        "\n",
        "docs = text_splitter.split_documents(raw_docs)  # さっき読み込んだファイルを、1000文字ずつに分けるよ\n",
        "\n",
        "print(len(docs))  # 分けたかけらの数を表示するよ\n"
      ]
    },
    {
      "cell_type": "markdown",
      "metadata": {
        "id": "IQpz1hr03O_-"
      },
      "source": [
        "### Embedding model\n"
      ]
    },
    {
      "cell_type": "code",
      "execution_count": null,
      "metadata": {
        "id": "orW412it3O_-"
      },
      "outputs": [],
      "source": [
        "from langchain_openai import OpenAIEmbeddings  # OpenAIの埋め込みモデルを使うよ（言葉→数字）\n",
        "\n",
        "# 言葉をベクトル（数字）に変換するためのモデルを選ぶよ\n",
        "embeddings = OpenAIEmbeddings(model=\"text-embedding-3-small\")  # 小さめモデルを使うよ（速くて軽い！）\n"
      ]
    },
    {
      "cell_type": "code",
      "execution_count": null,
      "metadata": {
        "colab": {
          "base_uri": "https://localhost:8080/"
        },
        "id": "JScnH-EX3O_-",
        "outputId": "059a09b5-a0ae-4c8d-996b-4157ed298a0a"
      },
      "outputs": [
        {
          "output_type": "stream",
          "name": "stdout",
          "text": [
            "1536\n",
            "[0.01968870498239994, -0.007562828715890646, 0.029617559164762497, -0.026554401963949203, 0.049940019845962524, 0.025012260302901268, -0.014977781102061272, 0.02129422128200531, 0.025730518624186516, -0.021463222801685333, 0.009273971430957317, -0.010615423321723938, -0.017417743802070618, -0.006010124925523996, -0.011428743600845337, 0.06316440552473068, 0.033335596323013306, -0.00034394499380141497, -0.04495446756482124, 0.02638540044426918, 0.0320047065615654, 0.03532136604189873, -0.03819439932703972, 0.021864602342247963, 0.01868525706231594, -0.018769757822155952, -0.020269649103283882, 0.032237086445093155, -0.00830221176147461, -0.10114755481481552, -0.009332065470516682, -0.0574183464050293, -0.034243982285261154, 0.04677123576402664, -0.023934874683618546, 0.034835487604141235, 0.023343367502093315, 0.013308888301253319, -0.00799589604139328, -0.033758100122213364, 0.00023254245752468705, -0.021009031683206558, 0.021072406321763992, 0.013171575032174587, 0.006480161100625992, 0.004457421600818634, 0.007346295285969973, -0.0012714741751551628, -0.04677123576402664, 0.010287982411682606, -0.03876477852463722, 0.03299759328365326, -0.002429400337859988, -0.024061625823378563, -0.0008522705757059157, 0.04765849560499191, -0.019614767283201218, 0.02518126182258129, 5.710410914616659e-05, -0.020058397203683853, 0.016572734341025352, 0.004856159910559654, -0.04917951300740242, 0.06291090697050095, -0.0007829534588381648, 0.03415948152542114, 0.0013757799752056599, -0.03080057166516781, -0.06396716833114624, 0.0035912874154746532, -0.03906053304672241, 0.038553524762392044, 0.031328700482845306, -0.03999004140496254, -0.0076684546656906605, -0.013256075792014599, -0.03166670352220535, 0.035046741366386414, -0.012537818402051926, 0.029448555782437325, -0.008423681370913982, 0.05517907440662384, -0.02769516408443451, -0.05048927664756775, 0.02439962886273861, 0.016910739243030548, 0.006717820186167955, 0.03088507242500782, -0.001642485847696662, 0.008138490840792656, 0.038849279284477234, 0.01750224456191063, -0.02750503644347191, 0.027758538722991943, 0.012316003441810608, 0.03895490616559982, 0.02670227736234665, -0.04250394180417061, -0.0028598266653716564, 0.027821915224194527, -0.021125219762325287, -0.03118082508444786, 0.03557487204670906, -0.03641987964510918, 0.0607561320066452, -0.058136604726314545, 0.04068717360496521, -0.0002414546615909785, 0.029342930763959885, 0.0025257840752601624, -0.05424956604838371, 0.0003871856606565416, -0.024568630382418633, -0.033758100122213364, 0.014840466901659966, -0.01254838053137064, 0.02117803320288658, 0.019963333383202553, -0.003094844752922654, -0.0033721132203936577, -0.033758100122213364, 0.036208625882864, -0.01779799722135067, -0.03661000728607178, 0.0065435366705060005, -0.03656775504350662, -0.0015355393989011645, -0.06138988956809044, -0.037645142525434494, -0.0008219031151384115, 0.05839010700583458, -0.017628995701670647, 0.08606414496898651, -0.06485442817211151, 0.05450306832790375, -0.016541047021746635, 0.001057581277564168, -0.027864165604114532, 0.001518375240266323, 0.011185804381966591, 0.019540827721357346, -0.022561734542250633, 0.02520238794386387, 0.029216179624199867, -0.04677123576402664, 0.01750224456191063, 0.016150230541825294, -0.018928196281194687, -0.04596848040819168, -0.03627200424671173, -0.05826335772871971, -0.020544275641441345, -0.031349826604127884, -0.041257552802562714, -0.06375591456890106, 0.005283945705741644, -0.016350919380784035, 0.025244638323783875, 0.03597624972462654, 0.023258866742253304, -0.05577057972550392, -0.018072625622153282, 0.018917635083198547, 0.01979433186352253, 0.004000588320195675, 0.016160793602466583, 0.02549814060330391, -0.01837894134223461, -0.017829686403274536, -0.060713883489370346, -0.004729408770799637, -0.010578453540802002, -0.01648823358118534, 0.004879925865679979, 0.015125657431781292, -0.031032947823405266, -0.017555058002471924, -0.01870638318359852, -0.0020491464529186487, -0.02858242206275463, -0.005476713180541992, -0.04525022208690643, -0.02750503644347191, 0.04850350692868233, -0.04765849560499191, -0.024948885664343834, -0.022456109523773193, 0.05847460776567459, -0.04347570240497589, 0.007467765361070633, -0.03259621560573578, 0.07812106609344482, -0.008318055421113968, 0.014375711791217327, 0.02659665234386921, -0.008318055421113968, -0.0026829028502106667, -0.006828727200627327, 0.012675131671130657, -0.003321940777823329, 0.03137095272541046, 0.002302648965269327, 0.017248742282390594, 0.015020031481981277, -0.01918170042335987, 0.02799091674387455, -0.021040719002485275, 0.007715986575931311, -0.016731174662709236, -0.03616637736558914, 0.013308888301253319, 0.04820775240659714, -0.020713279023766518, 0.01887538470327854, -0.023047614842653275, -0.028857050463557243, 0.018273314461112022, 0.06912171840667725, -0.003604490775614977, 0.016467109322547913, -0.006691413465887308, 0.0384056493639946, -0.012727945111691952, -0.0024465646129101515, -0.01859019324183464, 0.03434960916638374, -0.02069215290248394, -0.0559818334877491, 0.00850290060043335, -0.027948666363954544, 0.05255954712629318, 0.0007116558263078332, -0.01178787276148796, 0.017037490382790565, -0.006411504466086626, 0.009448254480957985, -0.05640433728694916, 0.0369691364467144, -0.01084780041128397, -0.03988441452383995, -0.029934436082839966, -0.016636110842227936, -0.02748391032218933, 0.03500448912382126, -0.037138137966394424, -0.029216179624199867, -0.007964207790791988, -0.0180092491209507, 0.01075273659080267, 0.05332005396485329, 0.007795206271111965, -0.02357574552297592, 0.03151882812380791, -0.054545316845178604, -0.04837675392627716, -0.016467109322547913, -0.017322679981589317, 0.001486687338910997, -0.000433067005360499, -0.0035252710804343224, 0.016551610082387924, 0.024040499702095985, 0.006226658821105957, 0.02260398492217064, -0.0012219619238749146, -0.0303780660033226, 0.03625087812542915, -0.0031687829177826643, 0.0006288053700700402, 0.028434546664357185, 0.020470337942242622, -0.013741955161094666, 0.06358691304922104, -0.01728042960166931, -0.007937801070511341, 0.03141320124268532, 0.0043782019056379795, -0.05319330468773842, 0.030145689845085144, 0.03339897096157074, 0.010309107601642609, 0.005257538985460997, -0.024251753464341164, 0.035448119044303894, -0.007282919716089964, 0.007113917730748653, -0.03077944554388523, -0.012516693212091923, -0.06189689412713051, 0.00581999821588397, 0.004853519145399332, -0.021716726943850517, 0.01749168150126934, -0.017966998741030693, 0.008539870381355286, 0.02289973758161068, -0.013351138681173325, 0.008397274650633335, 0.020343586802482605, -0.005386930890381336, 0.01055204775184393, 0.03999004140496254, 0.014322899281978607, 0.01064182911068201, -0.013161011971533298, -0.00243600201793015, -0.05420731380581856, -0.04176456108689308, 0.029469681903719902, -0.01789306104183197, -0.006966041401028633, 0.026554401963949203, 0.0036889915354549885, 0.015600974671542645, -0.000125761071103625, -0.05188354104757309, -0.015748851001262665, -0.0001532403694000095, 0.026829028502106667, -0.014217273332178593, 0.02050202526152134, 0.009817945770919323, -0.020766090601682663, -0.009273971430957317, -0.0636291652917862, 0.011830123141407967, -0.04246169328689575, -0.018262753263115883, -0.028413420543074608, -0.006015406455844641, 0.029427431523799896, 0.009611975401639938, 0.01630866900086403, -0.007578672841191292, 0.015865040943026543, -0.0106523921713233, -0.006290034390985966, 0.018917635083198547, -0.00494594220072031, -0.017259305343031883, -0.04436296224594116, 0.024758758023381233, -0.007341013755649328, -0.04436296224594116, 0.02117803320288658, 0.00670197606086731, -0.010071448981761932, 0.042440567165613174, 0.012379379011690617, -0.023955998942255974, 0.019530266523361206, 0.007203700020909309, 0.001538180047646165, 0.012896946631371975, 0.01589672826230526, 0.008972937241196632, -0.030525943264365196, -0.06472767144441605, 0.014301774092018604, -0.05796760320663452, -0.023174365982413292, 0.014417963102459908, 0.016329795122146606, -0.0015012109652161598, 0.007647329475730658, 0.015294658951461315, 0.018357817083597183, 0.0025561517104506493, 0.02640652470290661, -0.017977561801671982, 0.03481436148285866, 0.013678579591214657, 0.010953426361083984, -0.03481436148285866, 0.0017005802365019917, 0.010087292641401291, -0.034645359963178635, 0.019435202702879906, -0.020470337942242622, 0.020861154422163963, -0.011523807421326637, 0.042144812643527985, 0.0245052557438612, 0.017966998741030693, 0.01049395278096199, 0.019910519942641258, -0.015009468421339989, 0.022033603861927986, 0.020639339461922646, -0.02949080802500248, -0.005841123405843973, -0.010789706371724606, -0.026723403483629227, 0.023955998942255974, -0.013963770121335983, -0.01463977713137865, 0.009955259971320629, 0.0009724202682264149, 0.002516541862860322, 0.00879337266087532, 0.0038210242055356503, 0.029469681903719902, 0.03099069744348526, 0.006738945376127958, 0.021949103102087975, 0.018241627141833305, 0.023617995902895927, -0.006305878050625324, 0.009965822100639343, -0.05948862060904503, 0.021273097023367882, -0.009495786391198635, 0.028054291382431984, -0.03635650500655174, -0.008988780900835991, 0.02258286066353321, -0.040053416043519974, 0.009870759211480618, -0.021758977323770523, 0.036631129682064056, 0.009268689900636673, -0.016118543222546577, -0.025434764102101326, -0.0329553447663784, -0.03346234932541847, 0.024336254224181175, 0.07440302520990372, -0.034138355404138565, 0.019910519942641258, -0.009284534491598606, 0.029934436082839966, -0.0367790088057518, 0.051334284245967865, 0.019910519942641258, -0.03616637736558914, 0.0172909926623106, 0.0031846268102526665, -0.01938238926231861, 0.03789864480495453, -0.019150011241436005, 0.006363972555845976, 0.006612193770706654, -0.041637808084487915, 0.037729643285274506, -0.07191024720668793, 0.015505911782383919, 0.020766090601682663, 0.05969987064599991, 0.000951295078266412, -0.0008311453857459128, 0.06269965320825577, -0.04516572132706642, -0.017322679981589317, -0.015273533761501312, -0.011861811392009258, -0.008127928711473942, -0.02108296938240528, -0.04867250844836235, 0.06422066688537598, -0.02978656068444252, 0.0033589100930839777, 0.04660223424434662, -0.03411722928285599, 0.016530483961105347, -0.015368597581982613, -0.04702473804354668, 0.03830002248287201, 0.020913967862725258, 0.01979433186352253, 0.0051387096755206585, 0.028941551223397255, 0.0067231012508273125, -0.028159918263554573, 0.015843914821743965, -0.037645142525434494, -0.021822351962327957, -0.01579110138118267, -0.03187795728445053, -0.023047614842653275, -0.027864165604114532, 0.012896946631371975, 0.017343806102871895, -0.03278634324669838, -0.03196245804429054, 0.023322243243455887, 0.10883713513612747, -0.01601291634142399, 0.033736977726221085, 0.011132990941405296, 0.022371608763933182, -0.01388983242213726, 0.018653569743037224, 0.03437073156237602, -0.005241695325821638, -0.002923202235251665, -0.015336909331381321, -0.03965203836560249, -0.03800427168607712, -0.02780078910291195, 0.0015078125288709998, -0.039250656962394714, -0.064389668405056, -0.05006677284836769, 0.01060486026108265, -0.02057596482336521, -0.091514453291893, -0.06819221377372742, 0.008006458170711994, -0.010731611400842667, -0.05446081608533859, 0.01840006746351719, 0.05505232512950897, -0.0077582369558513165, 0.018653569743037224, -0.01830500364303589, -0.0035252710804343224, -0.0011500042164698243, 0.027737414464354515, 0.0026287694927304983, 0.014386274851858616, -0.028223294764757156, -0.0015553443226963282, 0.0404125452041626, -0.05086952820420265, -0.009152501821517944, 0.044743217527866364, -0.0404125452041626, -0.043729204684495926, 0.020713279023766518, -0.002657816745340824, -0.0035173490177839994, -0.05365805700421333, -0.010837238281965256, -0.022540610283613205, -0.006015406455844641, -0.06029137969017029, 0.02028021030128002, -0.01463977713137865, -0.01988939382135868, -0.012062500230967999, 0.010953426361083984, 0.016815675422549248, -0.02549814060330391, 0.036208625882864, 0.02708253264427185, -0.02587839402258396, 0.00399794802069664, -0.044447463005781174, -0.002573315752670169, 0.01640373282134533, -0.007504734210669994, 0.0012272432213649154, 0.01559041254222393, 0.015389722771942616, 0.03597624972462654, 0.004489109385758638, -0.00016817655705381185, 0.02938518114387989, -0.03739164024591446, 0.01058901660144329, -0.02568826824426651, -0.005888654850423336, -0.019635891541838646, 0.010963989421725273, -0.007884988561272621, -0.003604490775614977, -0.02570939250290394, -0.06709370017051697, -0.016741737723350525, 0.01434402447193861, 0.007124480325728655, 0.04436296224594116, 0.008011739701032639, 0.0654459297657013, -0.0021191237028688192, 0.007636766880750656, 0.02718815766274929, -0.05319330468773842, -0.006506567820906639, -0.003145017195492983, 0.015431973151862621, -0.02260398492217064, -0.019223950803279877, 0.016456546261906624, -0.012220939621329308, 0.01979433186352253, 0.04588397964835167, -0.0347721129655838, -0.014544714242219925, -0.011259742081165314, 0.015305222012102604, -0.011872373521327972, 0.011006239801645279, -0.010657673701643944, 0.012664569541811943, -0.014407400041818619, 0.01889650896191597, 0.01149212010204792, -0.05606633424758911, 0.02287861332297325, 0.041827935725450516, -0.03768739104270935, 0.005856967065483332, 0.03756064176559448, -0.003049953607842326, 0.016921300441026688, 0.010330232791602612, -0.015949541702866554, 0.030842822045087814, 0.0224983599036932, 0.056615591049194336, -0.0026908249128609896, -0.03278634324669838, -0.037349388003349304, -0.0, 0.025350263342261314, -0.019752081483602524, 0.009928853251039982, -0.0034354887902736664, 0.009073281660676003, -0.013868707232177258, -0.0036678663454949856, 0.02968093380331993, 0.014238398522138596, -0.03468761220574379, -0.004388764500617981, -0.035152364522218704, 0.012611756101250648, -0.0599956251680851, 0.041025176644325256, -0.07013572752475739, 0.05036252364516258, -0.006696694530546665, -0.008909561671316624, 0.028434546664357185, 0.01154493261128664, 0.02849792130291462, -0.007980051450431347, -0.02587839402258396, 0.025117887184023857, -0.008207147940993309, -0.0008621730376034975, 0.025223512202501297, -0.023364493623375893, 0.03770851716399193, -0.0029179209377616644, -0.015949541702866554, 0.036441005766391754, -0.0010536203626543283, -0.0192028246819973, -0.009691194631159306, -0.013509578071534634, 0.010187637060880661, 0.0004769678635057062, 0.01908663660287857, 0.006665006745606661, -0.005730215925723314, -0.012907509692013264, 0.020554838702082634, 0.0025429483503103256, -0.01711142808198929, -0.04829225316643715, -0.018653569743037224, 0.02818104438483715, -0.01607629284262657, -0.006004843860864639, 0.004990833345800638, 0.03166670352220535, 0.008439525030553341, 0.012844134122133255, -0.005666840355843306, 0.006041812710464001, 0.022519484162330627, -0.019213387742638588, 0.016530483961105347, -0.01841062866151333, -0.005191522650420666, 0.003324581542983651, -0.008925405330955982, 0.01900213584303856, -0.008323336951434612, 0.013879269361495972, -0.0011064334539696574, -0.053911563009023666, 0.017259305343031883, -0.012622319161891937, -0.0025878394953906536, 0.008714153431355953, 0.031328700482845306, -0.0012734546326100826, 0.021251970902085304, -0.011777309700846672, -0.010794986970722675, -0.042841944843530655, 0.0010945504764094949, 0.03272296488285065, -0.012970885261893272, 0.017628995701670647, -0.0234067440032959, 0.015389722771942616, -0.003010343760251999, -0.0367790088057518, -0.011164679192006588, -0.02167447656393051, -0.026131896302103996, -0.01849512942135334, -0.0087405601516366, -0.0035279118455946445, 0.009411285631358624, -0.027631787583231926, -0.05179904028773308, 0.0029205617029219866, -0.03770851716399193, -0.011185804381966591, -0.029828811064362526, -0.029934436082839966, 0.00752057833597064, -0.006665006745606661, -0.03246946260333061, 0.006105188746005297, -0.0037497265730053186, 0.009759851731359959, -0.008476494811475277, -0.0468134880065918, 0.029617559164762497, 0.009273971430957317, 0.002807013690471649, 0.002598402090370655, 0.004964426625519991, 0.028645798563957214, 0.03637762740254402, -0.02467425726354122, -0.029131678864359856, 0.007774081081151962, 0.0008476494695059955, -0.010974551551043987, -0.011735059320926666, 0.03508898988366127, -0.03766626864671707, -0.01610798016190529, -0.03331447020173073, -0.0019818097352981567, 0.047616247087717056, 0.04486996680498123, -0.023343367502093315, -0.024463005363941193, 0.0005921663250774145, 0.06819221377372742, -0.004795425105839968, -0.01610798016190529, 0.015664350241422653, 0.0034618955105543137, 0.007383264601230621, -0.029364055022597313, 0.015125657431781292, -0.00874584075063467, 0.0050278021954, -0.005656277760863304, -0.0031793455127626657, -0.008893718011677265, 0.010710486210882664, 0.036736756563186646, 0.027737414464354515, 0.026744527742266655, -0.015727726742625237, 0.025836143642663956, -0.06561493128538132, 0.001546101993881166, 0.025962894782423973, -0.013055386021733284, 0.003284971695393324, 0.002730434760451317, 0.053827062249183655, 0.003321940777823329, 0.007341013755649328, 0.010921739041805267, -0.005492557305842638, -0.018104312941432, -0.009015187621116638, -0.024146126583218575, -0.014322899281978607, -0.001202157000079751, -0.0050436463207006454, -0.030441442504525185, -0.024272877722978592, 0.028371170163154602, -0.04056042060256004, 0.03208920732140541, 0.00804342795163393, -0.022730736061930656, -0.022920863702893257, -0.016551610082387924, 0.01578054018318653, -0.007494171615689993, 0.00684985239058733, -0.008117365650832653, -0.018357817083597183, -0.017048053443431854, -0.04250394180417061, -0.002536346670240164, -0.010525641031563282, -0.0050436463207006454, -0.0013889832189306617, 0.033335596323013306, 0.11399168521165848, -0.006659725680947304, -0.03310322016477585, 0.0007453241851180792, -0.04550372436642647, -0.028138792142271996, -0.02978656068444252, 0.01880144514143467, -0.004613219760358334, 0.014840466901659966, -0.019868269562721252, -0.00094007229199633, -0.007383264601230621, 0.008508182130753994, 0.008180741220712662, 0.04106742888689041, 0.027019156143069267, -0.028138792142271996, -0.012273753061890602, -0.014977781102061272, 0.03787751868367195, 0.005904498975723982, 0.03629312664270401, 0.009421847760677338, -0.02349124476313591, -0.05306655168533325, 0.013150449842214584, 0.0413631796836853, 0.019614767283201218, -0.009469379670917988, 0.050742778927087784, 0.018262753263115883, -0.0010529601713642478, -0.05370030924677849, -0.034729860723018646, -0.031434327363967896, -0.04381370544433594, -0.018431754782795906, 0.017164241522550583, -0.027061406522989273, -0.005434462800621986, -0.012041375041007996, -0.020533714443445206, 0.023153241723775864, -0.005450306925922632, -0.0647699236869812, 0.014280648902058601, 0.0069079468958079815, -0.02917392924427986, -0.015115095302462578, 0.021949103102087975, 0.06341791152954102, -0.011745622381567955, -0.047616247087717056, -0.026575526222586632, 0.017428306862711906, 0.016118543222546577, 0.017375493422150612, -0.03777189180254936, 0.032237086445093155, 0.013234950602054596, 0.01379476860165596, 0.011587182991206646, -0.0005650996463373303, 0.034941114485263824, 0.005735497456043959, 0.03118082508444786, 0.02167447656393051, -0.040032293647527695, 0.0044494993053376675, -0.007710705511271954, -0.03946191072463989, -0.004850878845900297, 0.06198139488697052, -0.020565401762723923, 0.0030869226902723312, -0.03280746564269066, -0.005587620660662651, -0.05150328576564789, 0.029216179624199867, -0.009802102111279964, -0.036652255803346634, 0.025139011442661285, -0.005677402950823307, 0.033821478486061096, 0.023660246282815933, -0.017227616161108017, 0.023216616362333298, -0.01280188374221325, -0.006020687520503998, 0.02630089968442917, 0.02129422128200531, -0.011914623901247978, 0.007789924740791321, 0.002976015442982316, 0.02287861332297325, 0.009485223330557346, 0.011967437341809273, 0.000571371172554791, 0.01185124833136797, 0.028519047424197197, -0.009717601351439953, 0.01178787276148796, 0.04748949408531189, -0.007045261096209288, -0.013520141132175922, 0.01224206481128931, 0.015410847961902618, 0.0009090446401387453, -0.02507563680410385, 0.029554182663559914, 0.0010655033402144909, -0.012411066330969334, 0.0234067440032959, 0.004280497785657644, -0.0075522661209106445, 0.027167033404111862, -0.017164241522550583, 0.012263190001249313, 0.018653569743037224, -0.003802539547905326, -0.0071825748309493065, 0.00037464257911778986, -0.0407928004860878, -0.01759730838239193, -0.0013493733713403344, 0.010562609881162643, -0.005257538985460997, -0.03718038648366928, 0.007832175120711327, 0.006559380795806646, -0.051334284245967865, 0.03521574288606644, -0.011650558561086655, -6.556245352840051e-05, 0.0018418551189824939, -0.003343065967783332, 0.023258866742253304, 0.013351138681173325, 0.0037259606178849936, 0.03705363720655441, -0.019646454602479935, 0.018759194761514664, -0.01900213584303856, 0.008761685341596603, -0.004858800675719976, -0.01249556802213192, -0.0066333189606666565, 0.02680790424346924, -0.02839229628443718, -0.010710486210882664, -0.0018827852327376604, 0.06367141008377075, -0.005682684015482664, 0.031751204282045364, 0.008344462141394615, 0.018579630181193352, -0.003900243667885661, -0.005046287085860968, -0.013456765562295914, 0.020523151382803917, -0.0007136363419704139, 0.006496005225926638, 0.023955998942255974, -0.016530483961105347, -0.011386493220925331, -0.009258127771317959, 0.03937740996479988, -0.01678398810327053, 0.025455890223383904, -0.025857269763946533, -0.00250994018279016, 0.021864602342247963, -0.03145545348525047, 0.010911175981163979, 0.01818881370127201, 0.04727824404835701, 0.022223731502890587, 0.01549534872174263, -0.017618432641029358, 0.007298763375729322, -0.00035153687349520624, 0.012706819921731949, -0.020058397203683853, 0.036736756563186646, 0.006078782025724649, 0.023343367502093315, 0.004019073210656643, -0.028730299323797226, -0.009717601351439953, 0.0038527119904756546, -0.002315852325409651, 0.012812445871531963, -0.019973894581198692, 0.018727507442235947, 0.02169560082256794, -0.01364689227193594, -0.027843039482831955, 0.0018405347364023328, 0.016646673902869225, 0.02370249666273594, 0.03206808492541313, 0.01034607645124197, -0.01768180914223194, -0.010837238281965256, 0.01300257258117199, 0.010599578730762005, 0.018727507442235947, -0.0032717683352530003, 0.013520141132175922, -0.01288638450205326, -0.05746059864759445, -0.04457421600818634, -0.00500139594078064, -0.006258346606045961, 0.006353409960865974, 0.0032453618478029966, -0.036039624363183975, -0.0468134880065918, 0.04626423120498657, -0.0111541161313653, 0.023322243243455887, 0.0017956437077373266, 0.0163826085627079, 0.07102298736572266, 0.0393562838435173, 0.011713934130966663, 0.022118104621767998, -0.0010192918125540018, 0.02970205992460251, -0.008972937241196632, 0.03479323908686638, -0.0029047178104519844, 0.03629312664270401, 0.0363987535238266, -0.01199912466108799, 0.0007743713213130832, 0.004409889690577984, 0.012136438861489296, 0.007488890551030636, -0.013562391512095928, 0.04791199788451195, 0.019635891541838646, 0.0435602031648159, -0.027821915224194527, 0.046433232724666595, -0.0010371162788942456, 0.012284315191209316, -0.05116528272628784, 0.01661498472094536, 0.035743873566389084, 0.02279411256313324, 0.030716069042682648, 0.012220939621329308, 0.014386274851858616, -0.011323117651045322, 0.026533275842666626, 0.01888594590127468, 0.024146126583218575, -0.01254838053137064, -0.017829686403274536, -0.0022749220952391624, 0.002841342007741332, 0.015072844922542572, 0.03568049520254135, 0.011882936581969261, 0.009986947290599346, -0.002841342007741332, 0.03306096792221069, 0.010013354010879993, -0.007076948881149292, -0.010097854770720005, -0.030124563723802567, -0.0029786559753119946, -0.011027364991605282, 0.006918509490787983, -0.028645798563957214, 0.006575224921107292, -0.01424896065145731, -0.005582339596003294, -0.019614767283201218, 0.015020031481981277, 0.012157564051449299, -0.042947571724653244, 0.04427846148610115, -0.025033386424183846, 0.03206808492541313, -0.012421629391610622, -0.0020319821778684855, -0.005856967065483332, -0.007055823691189289, 0.03500448912382126, 0.00994469691067934, -0.013530703261494637, -0.03080057166516781, 0.019139450043439865, 0.005709090735763311, -0.01979433186352253, 0.013995458371937275, -0.002495416672900319, -0.0024082751478999853, -0.001746791647747159, -0.019245075061917305, 0.013678579591214657, 0.058516860008239746, -0.001878824201412499, 0.009284534491598606, -0.002620847662910819, -0.031159698963165283, 0.008751122280955315, 0.05344680696725845, -0.013044822961091995, -0.008281086571514606, -0.010921739041805267, -0.012379379011690617, -0.02558264136314392, 0.012062500230967999, 0.019319012761116028, -0.008138490840792656, -0.03287084400653839, 0.0005185581394471228, -0.017628995701670647, -0.011513245292007923, 0.009765133261680603, -0.03048369288444519, 0.011048490181565285, 0.03960978612303734, -0.002123084617778659, -0.005946749355643988, 0.006062938366085291, 0.025033386424183846, -0.003158220322802663, 0.009485223330557346, -0.014692590571939945, 0.010013354010879993, 0.008883154951035976, -0.006062938366085291, 0.017713496461510658, -0.04110967740416527, 0.013741955161094666, 0.01898100972175598, 0.04837675392627716, 0.008233554661273956, 0.010087292641401291, -0.012051938101649284, 0.02370249666273594, -0.04799649864435196, -0.00025482295313850045, -0.035448119044303894, 0.010076729580760002, 0.010736892931163311, 0.005915061570703983, 0.014713715761899948, -0.00012204765516798943, -0.01841062866151333, -0.028561297804117203, 0.015336909331381321, 0.013974333181977272, 0.0001863310462795198, 0.024167250841856003, 0.004016432445496321, -0.0027938103303313255, -0.01989995688199997, -0.004441577475517988, 0.0003980783512815833, -0.014027145691215992, -0.03551149368286133, -0.02579389326274395, -0.00444421824067831, 0.009511630050837994, 0.0072723571211099625, -0.030040062963962555, 0.01841062866151333, 0.008138490840792656, -0.015505911782383919, 0.00850290060043335, 0.026153022423386574, -0.03077944554388523, -0.059530869126319885, 0.003094844752922654, -0.04028579592704773, -0.019076073542237282, 0.014386274851858616, -0.00574606005102396, 0.03570162132382393, -0.028962677344679832, 0.012453317642211914, -0.03747614100575447, -0.018125439062714577, 0.026512151584029198, 0.006437910720705986, -0.052221544086933136, 0.01837894134223461, -0.027145907282829285, 0.04457421600818634, 0.028371170163154602, -0.006918509490787983, -0.006744226440787315, 0.018146563321352005, 0.008180741220712662, 0.04960201680660248, -0.0039636194705963135, 0.010583735071122646, 0.004713564645498991, 0.010515077970921993, -0.0004594735219143331, 0.028624672442674637, -0.023237742483615875, 0.025751642882823944, -0.028223294764757156, 0.0048825666308403015, 0.022625111043453217, -0.019139450043439865, 0.02959643304347992, 0.02019570954144001, -0.003982103895395994, -0.002325094537809491, 0.04829225316643715, 0.01069992408156395, 0.027040282264351845, -0.018431754782795906, 0.001753393211401999, 0.004874644335359335, -0.0029126396402716637, -0.0034671768080443144, 0.024019375443458557, 0.030166814103722572, -0.0009037633426487446, 0.03358909860253334, 0.010398889891803265, 0.015600974671542645, 0.01837894134223461, 0.029026051983237267, -0.0028545453678816557, -0.0003677108616102487, 0.032828591763973236, 0.03979991376399994, 0.0050225211307406425, 0.02327999286353588, -0.04206031188368797, 0.004866722505539656, 0.016625547781586647, -0.001745471265166998, 0.021568849682807922, -0.01019820012152195, -0.03365247696638107, 0.005041005555540323, 0.0036652255803346634, 0.0202062726020813, 0.0033113781828433275, -0.004877285100519657, -0.008180741220712662, -0.017755746841430664, 0.03118082508444786, 0.0035173490177839994, 0.020311899483203888, -0.034539733082056046, -0.0034434108529239893, -0.028054291382431984, -0.002367344917729497, -0.002552190562710166, 0.007488890551030636, -0.011777309700846672, -0.011956874281167984, -0.0022775628603994846, 0.005677402950823307, 0.022941989824175835, 0.007488890551030636, -0.006892103236168623, -0.0071878558956086636, -0.008038146421313286, 0.012316003441810608, 0.0174811203032732, 0.012770195491611958, 0.012749070301651955, -0.02638540044426918, -0.0025284248404204845, 0.033441223204135895, 0.006390379276126623, 0.00735157635062933, -0.0064484733156859875, 0.03635650500655174, -0.038342274725437164, -0.030758319422602654, 0.00447062449529767, 0.02357574552297592, 0.014333461411297321, 0.01780856028199196, 0.03120194934308529, -0.03029356524348259, 0.01000279188156128, 0.0014616011176258326, -0.005080615635961294, 0.011312555521726608, -0.013425077311694622, -0.013837018981575966, 0.016129106283187866, 0.024251753464341164, -0.0031054073479026556, -0.007076948881149292, -0.015717163681983948, -0.015938978642225266, -0.011428743600845337, -0.009268689900636673, 0.02587839402258396, -0.02180122770369053, 0.014565839432179928, 0.013530703261494637, -0.0256037674844265, -0.00634812843054533, 0.030927322804927826, -0.015822790563106537, 0.01988939382135868, -0.03128645196557045, -0.001643806230276823, 0.008608527481555939, -0.011956874281167984, -0.0029839372728019953, -0.018674694001674652, -0.006099907215684652, 0.001121617155149579, 0.0012490286026149988, 0.02868804894387722, -0.006163282785564661, 0.03606075048446655, 0.008587402291595936, 0.009157782420516014, -0.007230106741189957, 0.00207687309011817, 0.005798873025923967, 0.022709611803293228, -0.02788528986275196, 0.011122427880764008, -0.009120813570916653, 0.025329139083623886, -0.0007598477532155812, 0.006295315455645323, 0.009949978440999985, 0.017766309902071953, 0.024547506123781204, -0.0025878394953906536, 0.008603245951235294, -0.007161449640989304, 0.007346295285969973, 0.017217054963111877, -0.003580724820494652, 0.03386372700333595, -0.01169280894100666, -0.017227616161108017, -0.041532181203365326, 0.019963333383202553, -0.013414514251053333, 0.021864602342247963, -0.006020687520503998, 0.029152803122997284, -0.019910519942641258, 0.04389820620417595, -0.0021574131678789854, -0.014270085841417313, -0.016847362741827965, 0.033251095563173294, 0.021262533962726593, 0.009083844721317291, 0.03587062284350395, -0.005888654850423336, -0.007356857880949974, -0.004161668475717306, -0.031159698963165283, 0.05695359408855438, -0.0020966781303286552, -0.01860075630247593, 0.03217371180653572, 0.033039845526218414, 2.7706220862455666e-05, 0.01463977713137865, -0.0026023630052804947, -0.014882717281579971, -0.0038579932879656553, -0.005735497456043959, -0.018452879041433334, -0.01880144514143467, 0.07452977448701859, 0.007911395281553268, 0.016836799681186676, -0.004272575955837965, 0.04736274480819702, -0.0035252710804343224, 0.03297646716237068, 0.037539515644311905, 0.029364055022597313, 0.005666840355843306, -9.077243157662451e-05, 0.014153897762298584, -0.0180092491209507, -0.015020031481981277, 0.03096957318484783, -0.0048640817403793335, -0.03610300272703171, 0.03430735692381859, -0.028054291382431984, 0.012316003441810608, -0.0010054284939542413, -0.021737851202487946, 0.015262971632182598, -0.00212440500035882, -0.0069977291859686375, -0.020248522982001305, -0.013108199462294579, -0.015400285832583904, -0.024167250841856003, 0.0235968716442585, -0.0031027665827423334, 0.027674037963151932, 0.005210007540881634, 0.027652913704514503, -0.02638540044426918, 0.001420671003870666, -0.020174585282802582, -0.024040499702095985, -0.01898100972175598, -0.015653787180781364, -0.0038896810729056597, 0.0016081574140116572, 0.009363753721117973, 0.0023567823227494955, 0.0015421410789713264, -0.015220721252262592, 0.000835766491945833, 0.02069215290248394, -0.03641987964510918, -0.009163063950836658, -0.01950914040207863, -0.007689579855650663, 0.02389262430369854, 0.01000279188156128, -0.02209698036313057, 0.007451921235769987, -0.029828811064362526, -0.011080177500844002, -0.020343586802482605, 0.011935749091207981, -0.016879050061106682, 0.004063964355736971, -0.043940458446741104, -0.013287763111293316, -0.025730518624186516, -0.007335732690989971, 0.007779362145811319, 0.009036312811076641, 0.005125506315380335, 0.009664787910878658, -0.004776940215379, -0.02570939250290394, 0.006121032405644655, 0.02729378454387188, -0.005080615635961294, 0.018167689442634583, -0.011925186961889267, 0.019044386222958565, -0.0027568412479013205, 0.02758953720331192, 0.05048927664756775, 0.010208762250840664, 0.03489886224269867, -0.02007952146232128, 0.01519959606230259, 0.0101506682112813, 0.039440784603357315, -0.010092574171721935, -0.00670197606086731, -0.006411504466086626, -0.0032717683352530003, 0.024357378482818604, 0.007293482311069965, -0.02530801296234131, 0.025667142122983932, 0.015463661402463913, 0.0404125452041626, 0.022456109523773193, 0.016974113881587982, 0.03141320124268532, -0.023343367502093315, -0.01601291634142399, -0.02530801296234131, -0.009839070960879326, -0.027843039482831955, -0.009902446530759335, 0.02687128074467182, -0.011745622381567955, -0.046644486486911774, -0.02790641598403454, 0.002738356590270996, 0.0068181646056473255, -0.00879337266087532, 0.015326347202062607, -0.008275805041193962, -0.028772549703717232, -0.009643662720918655, 0.014967218041419983, 0.03217371180653572, 0.008460650220513344, 0.011661121621727943, 0.01123861689120531, 3.158468098263256e-05, 0.001554023940116167, -0.0038447899278253317, 0.015759414061903954, -0.016636110842227936, -0.005445025395601988, -0.014565839432179928, 0.01588616520166397, -0.015484786592423916, -0.02788528986275196, -0.0068181646056473255, 0.044531963765621185, -0.01678398810327053, 0.029131678864359856, -0.005423900205641985, -0.023470118641853333, 0.002605003770440817, 0.029469681903719902, 0.029659809544682503, -0.023153241723775864, -0.008201866410672665, 0.032342713326215744, -0.000866134010720998, -0.002952249487861991, 0.012706819921731949, -0.02068158984184265, 0.007488890551030636, -0.007536422461271286, 0.028561297804117203]\n"
          ]
        }
      ],
      "source": [
        "query = \"AWSのS3からデータを読み込むためのDocument loaderはありますか？\"  # 調べたい質問を用意するよ\n",
        "\n",
        "vector = embeddings.embed_query(query)  # 質問をベクトル（数字のかたまり）に変えるよ\n",
        "\n",
        "print(len(vector))  # ベクトルの長さ（何個の数字か）を表示するよ\n",
        "print(vector)  # 実際のベクトルの中身（数字たち）を表示するよ\n"
      ]
    },
    {
      "cell_type": "markdown",
      "metadata": {
        "id": "K1N8s1NU3O_-"
      },
      "source": [
        "### Vector store\n"
      ]
    },
    {
      "cell_type": "code",
      "execution_count": null,
      "metadata": {
        "colab": {
          "base_uri": "https://localhost:8080/"
        },
        "id": "VIU1AOrf3O_-",
        "outputId": "56d58310-902b-4d4c-9f67-3a980e92de8a"
      },
      "outputs": [
        {
          "output_type": "stream",
          "name": "stdout",
          "text": [
            "Collecting langchain-chroma==0.1.4\n",
            "  Downloading langchain_chroma-0.1.4-py3-none-any.whl.metadata (1.6 kB)\n",
            "Collecting chromadb!=0.5.4,!=0.5.5,<0.6.0,>=0.4.0 (from langchain-chroma==0.1.4)\n",
            "  Downloading chromadb-0.5.23-py3-none-any.whl.metadata (6.8 kB)\n",
            "Requirement already satisfied: fastapi<1,>=0.95.2 in /usr/local/lib/python3.11/dist-packages (from langchain-chroma==0.1.4) (0.115.13)\n",
            "Requirement already satisfied: langchain-core<0.4,>=0.1.40 in /usr/local/lib/python3.11/dist-packages (from langchain-chroma==0.1.4) (0.3.63)\n",
            "Requirement already satisfied: numpy<2,>=1 in /usr/local/lib/python3.11/dist-packages (from langchain-chroma==0.1.4) (1.26.4)\n",
            "Requirement already satisfied: build>=1.0.3 in /usr/local/lib/python3.11/dist-packages (from chromadb!=0.5.4,!=0.5.5,<0.6.0,>=0.4.0->langchain-chroma==0.1.4) (1.2.2.post1)\n",
            "Requirement already satisfied: pydantic>=1.9 in /usr/local/lib/python3.11/dist-packages (from chromadb!=0.5.4,!=0.5.5,<0.6.0,>=0.4.0->langchain-chroma==0.1.4) (2.10.6)\n",
            "Collecting chroma-hnswlib==0.7.6 (from chromadb!=0.5.4,!=0.5.5,<0.6.0,>=0.4.0->langchain-chroma==0.1.4)\n",
            "  Downloading chroma_hnswlib-0.7.6-cp311-cp311-manylinux_2_17_x86_64.manylinux2014_x86_64.whl.metadata (252 bytes)\n",
            "Requirement already satisfied: uvicorn>=0.18.3 in /usr/local/lib/python3.11/dist-packages (from uvicorn[standard]>=0.18.3->chromadb!=0.5.4,!=0.5.5,<0.6.0,>=0.4.0->langchain-chroma==0.1.4) (0.34.3)\n",
            "Collecting posthog>=2.4.0 (from chromadb!=0.5.4,!=0.5.5,<0.6.0,>=0.4.0->langchain-chroma==0.1.4)\n",
            "  Downloading posthog-6.0.0-py3-none-any.whl.metadata (6.0 kB)\n",
            "Requirement already satisfied: typing_extensions>=4.5.0 in /usr/local/lib/python3.11/dist-packages (from chromadb!=0.5.4,!=0.5.5,<0.6.0,>=0.4.0->langchain-chroma==0.1.4) (4.14.0)\n",
            "Collecting onnxruntime>=1.14.1 (from chromadb!=0.5.4,!=0.5.5,<0.6.0,>=0.4.0->langchain-chroma==0.1.4)\n",
            "  Downloading onnxruntime-1.22.0-cp311-cp311-manylinux_2_27_x86_64.manylinux_2_28_x86_64.whl.metadata (4.5 kB)\n",
            "Collecting opentelemetry-api>=1.2.0 (from chromadb!=0.5.4,!=0.5.5,<0.6.0,>=0.4.0->langchain-chroma==0.1.4)\n",
            "  Downloading opentelemetry_api-1.34.1-py3-none-any.whl.metadata (1.5 kB)\n",
            "Collecting opentelemetry-exporter-otlp-proto-grpc>=1.2.0 (from chromadb!=0.5.4,!=0.5.5,<0.6.0,>=0.4.0->langchain-chroma==0.1.4)\n",
            "  Downloading opentelemetry_exporter_otlp_proto_grpc-1.34.1-py3-none-any.whl.metadata (2.4 kB)\n",
            "Collecting opentelemetry-instrumentation-fastapi>=0.41b0 (from chromadb!=0.5.4,!=0.5.5,<0.6.0,>=0.4.0->langchain-chroma==0.1.4)\n",
            "  Downloading opentelemetry_instrumentation_fastapi-0.55b1-py3-none-any.whl.metadata (2.2 kB)\n",
            "Collecting opentelemetry-sdk>=1.2.0 (from chromadb!=0.5.4,!=0.5.5,<0.6.0,>=0.4.0->langchain-chroma==0.1.4)\n",
            "  Downloading opentelemetry_sdk-1.34.1-py3-none-any.whl.metadata (1.6 kB)\n",
            "Collecting tokenizers<=0.20.3,>=0.13.2 (from chromadb!=0.5.4,!=0.5.5,<0.6.0,>=0.4.0->langchain-chroma==0.1.4)\n",
            "  Downloading tokenizers-0.20.3-cp311-cp311-manylinux_2_17_x86_64.manylinux2014_x86_64.whl.metadata (6.7 kB)\n",
            "Collecting pypika>=0.48.9 (from chromadb!=0.5.4,!=0.5.5,<0.6.0,>=0.4.0->langchain-chroma==0.1.4)\n",
            "  Downloading PyPika-0.48.9.tar.gz (67 kB)\n",
            "\u001b[2K     \u001b[90m━━━━━━━━━━━━━━━━━━━━━━━━━━━━━━━━━━━━━━━━\u001b[0m \u001b[32m67.3/67.3 kB\u001b[0m \u001b[31m2.9 MB/s\u001b[0m eta \u001b[36m0:00:00\u001b[0m\n",
            "\u001b[?25h  Installing build dependencies ... \u001b[?25l\u001b[?25hdone\n",
            "  Getting requirements to build wheel ... \u001b[?25l\u001b[?25hdone\n",
            "  Preparing metadata (pyproject.toml) ... \u001b[?25l\u001b[?25hdone\n",
            "Requirement already satisfied: tqdm>=4.65.0 in /usr/local/lib/python3.11/dist-packages (from chromadb!=0.5.4,!=0.5.5,<0.6.0,>=0.4.0->langchain-chroma==0.1.4) (4.67.1)\n",
            "Collecting overrides>=7.3.1 (from chromadb!=0.5.4,!=0.5.5,<0.6.0,>=0.4.0->langchain-chroma==0.1.4)\n",
            "  Downloading overrides-7.7.0-py3-none-any.whl.metadata (5.8 kB)\n",
            "Requirement already satisfied: importlib-resources in /usr/local/lib/python3.11/dist-packages (from chromadb!=0.5.4,!=0.5.5,<0.6.0,>=0.4.0->langchain-chroma==0.1.4) (6.5.2)\n",
            "Requirement already satisfied: grpcio>=1.58.0 in /usr/local/lib/python3.11/dist-packages (from chromadb!=0.5.4,!=0.5.5,<0.6.0,>=0.4.0->langchain-chroma==0.1.4) (1.73.0)\n",
            "Collecting bcrypt>=4.0.1 (from chromadb!=0.5.4,!=0.5.5,<0.6.0,>=0.4.0->langchain-chroma==0.1.4)\n",
            "  Downloading bcrypt-4.3.0-cp39-abi3-manylinux_2_34_x86_64.whl.metadata (10 kB)\n",
            "Requirement already satisfied: typer>=0.9.0 in /usr/local/lib/python3.11/dist-packages (from chromadb!=0.5.4,!=0.5.5,<0.6.0,>=0.4.0->langchain-chroma==0.1.4) (0.16.0)\n",
            "Collecting kubernetes>=28.1.0 (from chromadb!=0.5.4,!=0.5.5,<0.6.0,>=0.4.0->langchain-chroma==0.1.4)\n",
            "  Downloading kubernetes-33.1.0-py2.py3-none-any.whl.metadata (1.7 kB)\n",
            "Requirement already satisfied: tenacity>=8.2.3 in /usr/local/lib/python3.11/dist-packages (from chromadb!=0.5.4,!=0.5.5,<0.6.0,>=0.4.0->langchain-chroma==0.1.4) (8.5.0)\n",
            "Requirement already satisfied: PyYAML>=6.0.0 in /usr/local/lib/python3.11/dist-packages (from chromadb!=0.5.4,!=0.5.5,<0.6.0,>=0.4.0->langchain-chroma==0.1.4) (6.0.2)\n",
            "Collecting mmh3>=4.0.1 (from chromadb!=0.5.4,!=0.5.5,<0.6.0,>=0.4.0->langchain-chroma==0.1.4)\n",
            "  Downloading mmh3-5.1.0-cp311-cp311-manylinux_2_5_x86_64.manylinux1_x86_64.manylinux_2_17_x86_64.manylinux2014_x86_64.whl.metadata (16 kB)\n",
            "Requirement already satisfied: orjson>=3.9.12 in /usr/local/lib/python3.11/dist-packages (from chromadb!=0.5.4,!=0.5.5,<0.6.0,>=0.4.0->langchain-chroma==0.1.4) (3.10.18)\n",
            "Requirement already satisfied: httpx>=0.27.0 in /usr/local/lib/python3.11/dist-packages (from chromadb!=0.5.4,!=0.5.5,<0.6.0,>=0.4.0->langchain-chroma==0.1.4) (0.28.1)\n",
            "Requirement already satisfied: rich>=10.11.0 in /usr/local/lib/python3.11/dist-packages (from chromadb!=0.5.4,!=0.5.5,<0.6.0,>=0.4.0->langchain-chroma==0.1.4) (13.9.4)\n",
            "Requirement already satisfied: starlette<0.47.0,>=0.40.0 in /usr/local/lib/python3.11/dist-packages (from fastapi<1,>=0.95.2->langchain-chroma==0.1.4) (0.46.2)\n",
            "Requirement already satisfied: langsmith<0.4,>=0.1.126 in /usr/local/lib/python3.11/dist-packages (from langchain-core<0.4,>=0.1.40->langchain-chroma==0.1.4) (0.1.147)\n",
            "Requirement already satisfied: jsonpatch<2.0,>=1.33 in /usr/local/lib/python3.11/dist-packages (from langchain-core<0.4,>=0.1.40->langchain-chroma==0.1.4) (1.33)\n",
            "Requirement already satisfied: packaging<25,>=23.2 in /usr/local/lib/python3.11/dist-packages (from langchain-core<0.4,>=0.1.40->langchain-chroma==0.1.4) (24.2)\n",
            "Requirement already satisfied: pyproject_hooks in /usr/local/lib/python3.11/dist-packages (from build>=1.0.3->chromadb!=0.5.4,!=0.5.5,<0.6.0,>=0.4.0->langchain-chroma==0.1.4) (1.2.0)\n",
            "Requirement already satisfied: anyio in /usr/local/lib/python3.11/dist-packages (from httpx>=0.27.0->chromadb!=0.5.4,!=0.5.5,<0.6.0,>=0.4.0->langchain-chroma==0.1.4) (4.9.0)\n",
            "Requirement already satisfied: certifi in /usr/local/lib/python3.11/dist-packages (from httpx>=0.27.0->chromadb!=0.5.4,!=0.5.5,<0.6.0,>=0.4.0->langchain-chroma==0.1.4) (2025.6.15)\n",
            "Requirement already satisfied: httpcore==1.* in /usr/local/lib/python3.11/dist-packages (from httpx>=0.27.0->chromadb!=0.5.4,!=0.5.5,<0.6.0,>=0.4.0->langchain-chroma==0.1.4) (1.0.9)\n",
            "Requirement already satisfied: idna in /usr/local/lib/python3.11/dist-packages (from httpx>=0.27.0->chromadb!=0.5.4,!=0.5.5,<0.6.0,>=0.4.0->langchain-chroma==0.1.4) (3.10)\n",
            "Requirement already satisfied: h11>=0.16 in /usr/local/lib/python3.11/dist-packages (from httpcore==1.*->httpx>=0.27.0->chromadb!=0.5.4,!=0.5.5,<0.6.0,>=0.4.0->langchain-chroma==0.1.4) (0.16.0)\n",
            "Requirement already satisfied: jsonpointer>=1.9 in /usr/local/lib/python3.11/dist-packages (from jsonpatch<2.0,>=1.33->langchain-core<0.4,>=0.1.40->langchain-chroma==0.1.4) (3.0.0)\n",
            "Requirement already satisfied: six>=1.9.0 in /usr/local/lib/python3.11/dist-packages (from kubernetes>=28.1.0->chromadb!=0.5.4,!=0.5.5,<0.6.0,>=0.4.0->langchain-chroma==0.1.4) (1.17.0)\n",
            "Requirement already satisfied: python-dateutil>=2.5.3 in /usr/local/lib/python3.11/dist-packages (from kubernetes>=28.1.0->chromadb!=0.5.4,!=0.5.5,<0.6.0,>=0.4.0->langchain-chroma==0.1.4) (2.9.0.post0)\n",
            "Requirement already satisfied: google-auth>=1.0.1 in /usr/local/lib/python3.11/dist-packages (from kubernetes>=28.1.0->chromadb!=0.5.4,!=0.5.5,<0.6.0,>=0.4.0->langchain-chroma==0.1.4) (2.38.0)\n",
            "Requirement already satisfied: websocket-client!=0.40.0,!=0.41.*,!=0.42.*,>=0.32.0 in /usr/local/lib/python3.11/dist-packages (from kubernetes>=28.1.0->chromadb!=0.5.4,!=0.5.5,<0.6.0,>=0.4.0->langchain-chroma==0.1.4) (1.8.0)\n",
            "Requirement already satisfied: requests in /usr/local/lib/python3.11/dist-packages (from kubernetes>=28.1.0->chromadb!=0.5.4,!=0.5.5,<0.6.0,>=0.4.0->langchain-chroma==0.1.4) (2.32.3)\n",
            "Requirement already satisfied: requests-oauthlib in /usr/local/lib/python3.11/dist-packages (from kubernetes>=28.1.0->chromadb!=0.5.4,!=0.5.5,<0.6.0,>=0.4.0->langchain-chroma==0.1.4) (2.0.0)\n",
            "Requirement already satisfied: oauthlib>=3.2.2 in /usr/local/lib/python3.11/dist-packages (from kubernetes>=28.1.0->chromadb!=0.5.4,!=0.5.5,<0.6.0,>=0.4.0->langchain-chroma==0.1.4) (3.3.1)\n",
            "Requirement already satisfied: urllib3>=1.24.2 in /usr/local/lib/python3.11/dist-packages (from kubernetes>=28.1.0->chromadb!=0.5.4,!=0.5.5,<0.6.0,>=0.4.0->langchain-chroma==0.1.4) (2.4.0)\n",
            "Collecting durationpy>=0.7 (from kubernetes>=28.1.0->chromadb!=0.5.4,!=0.5.5,<0.6.0,>=0.4.0->langchain-chroma==0.1.4)\n",
            "  Downloading durationpy-0.10-py3-none-any.whl.metadata (340 bytes)\n",
            "Requirement already satisfied: requests-toolbelt<2.0.0,>=1.0.0 in /usr/local/lib/python3.11/dist-packages (from langsmith<0.4,>=0.1.126->langchain-core<0.4,>=0.1.40->langchain-chroma==0.1.4) (1.0.0)\n",
            "Collecting coloredlogs (from onnxruntime>=1.14.1->chromadb!=0.5.4,!=0.5.5,<0.6.0,>=0.4.0->langchain-chroma==0.1.4)\n",
            "  Downloading coloredlogs-15.0.1-py2.py3-none-any.whl.metadata (12 kB)\n",
            "Requirement already satisfied: flatbuffers in /usr/local/lib/python3.11/dist-packages (from onnxruntime>=1.14.1->chromadb!=0.5.4,!=0.5.5,<0.6.0,>=0.4.0->langchain-chroma==0.1.4) (25.2.10)\n",
            "Requirement already satisfied: protobuf in /usr/local/lib/python3.11/dist-packages (from onnxruntime>=1.14.1->chromadb!=0.5.4,!=0.5.5,<0.6.0,>=0.4.0->langchain-chroma==0.1.4) (5.29.5)\n",
            "Requirement already satisfied: sympy in /usr/local/lib/python3.11/dist-packages (from onnxruntime>=1.14.1->chromadb!=0.5.4,!=0.5.5,<0.6.0,>=0.4.0->langchain-chroma==0.1.4) (1.13.1)\n",
            "Requirement already satisfied: importlib-metadata<8.8.0,>=6.0 in /usr/local/lib/python3.11/dist-packages (from opentelemetry-api>=1.2.0->chromadb!=0.5.4,!=0.5.5,<0.6.0,>=0.4.0->langchain-chroma==0.1.4) (8.7.0)\n",
            "Requirement already satisfied: googleapis-common-protos~=1.52 in /usr/local/lib/python3.11/dist-packages (from opentelemetry-exporter-otlp-proto-grpc>=1.2.0->chromadb!=0.5.4,!=0.5.5,<0.6.0,>=0.4.0->langchain-chroma==0.1.4) (1.70.0)\n",
            "Collecting opentelemetry-exporter-otlp-proto-common==1.34.1 (from opentelemetry-exporter-otlp-proto-grpc>=1.2.0->chromadb!=0.5.4,!=0.5.5,<0.6.0,>=0.4.0->langchain-chroma==0.1.4)\n",
            "  Downloading opentelemetry_exporter_otlp_proto_common-1.34.1-py3-none-any.whl.metadata (1.9 kB)\n",
            "Collecting opentelemetry-proto==1.34.1 (from opentelemetry-exporter-otlp-proto-grpc>=1.2.0->chromadb!=0.5.4,!=0.5.5,<0.6.0,>=0.4.0->langchain-chroma==0.1.4)\n",
            "  Downloading opentelemetry_proto-1.34.1-py3-none-any.whl.metadata (2.4 kB)\n",
            "Collecting opentelemetry-instrumentation-asgi==0.55b1 (from opentelemetry-instrumentation-fastapi>=0.41b0->chromadb!=0.5.4,!=0.5.5,<0.6.0,>=0.4.0->langchain-chroma==0.1.4)\n",
            "  Downloading opentelemetry_instrumentation_asgi-0.55b1-py3-none-any.whl.metadata (2.0 kB)\n",
            "Collecting opentelemetry-instrumentation==0.55b1 (from opentelemetry-instrumentation-fastapi>=0.41b0->chromadb!=0.5.4,!=0.5.5,<0.6.0,>=0.4.0->langchain-chroma==0.1.4)\n",
            "  Downloading opentelemetry_instrumentation-0.55b1-py3-none-any.whl.metadata (6.7 kB)\n",
            "Collecting opentelemetry-semantic-conventions==0.55b1 (from opentelemetry-instrumentation-fastapi>=0.41b0->chromadb!=0.5.4,!=0.5.5,<0.6.0,>=0.4.0->langchain-chroma==0.1.4)\n",
            "  Downloading opentelemetry_semantic_conventions-0.55b1-py3-none-any.whl.metadata (2.5 kB)\n",
            "Collecting opentelemetry-util-http==0.55b1 (from opentelemetry-instrumentation-fastapi>=0.41b0->chromadb!=0.5.4,!=0.5.5,<0.6.0,>=0.4.0->langchain-chroma==0.1.4)\n",
            "  Downloading opentelemetry_util_http-0.55b1-py3-none-any.whl.metadata (2.6 kB)\n",
            "Requirement already satisfied: wrapt<2.0.0,>=1.0.0 in /usr/local/lib/python3.11/dist-packages (from opentelemetry-instrumentation==0.55b1->opentelemetry-instrumentation-fastapi>=0.41b0->chromadb!=0.5.4,!=0.5.5,<0.6.0,>=0.4.0->langchain-chroma==0.1.4) (1.17.2)\n",
            "Collecting asgiref~=3.0 (from opentelemetry-instrumentation-asgi==0.55b1->opentelemetry-instrumentation-fastapi>=0.41b0->chromadb!=0.5.4,!=0.5.5,<0.6.0,>=0.4.0->langchain-chroma==0.1.4)\n",
            "  Downloading asgiref-3.8.1-py3-none-any.whl.metadata (9.3 kB)\n",
            "Collecting backoff>=1.10.0 (from posthog>=2.4.0->chromadb!=0.5.4,!=0.5.5,<0.6.0,>=0.4.0->langchain-chroma==0.1.4)\n",
            "  Downloading backoff-2.2.1-py3-none-any.whl.metadata (14 kB)\n",
            "Requirement already satisfied: distro>=1.5.0 in /usr/local/lib/python3.11/dist-packages (from posthog>=2.4.0->chromadb!=0.5.4,!=0.5.5,<0.6.0,>=0.4.0->langchain-chroma==0.1.4) (1.9.0)\n",
            "Requirement already satisfied: annotated-types>=0.6.0 in /usr/local/lib/python3.11/dist-packages (from pydantic>=1.9->chromadb!=0.5.4,!=0.5.5,<0.6.0,>=0.4.0->langchain-chroma==0.1.4) (0.7.0)\n",
            "Requirement already satisfied: pydantic-core==2.27.2 in /usr/local/lib/python3.11/dist-packages (from pydantic>=1.9->chromadb!=0.5.4,!=0.5.5,<0.6.0,>=0.4.0->langchain-chroma==0.1.4) (2.27.2)\n",
            "Requirement already satisfied: markdown-it-py>=2.2.0 in /usr/local/lib/python3.11/dist-packages (from rich>=10.11.0->chromadb!=0.5.4,!=0.5.5,<0.6.0,>=0.4.0->langchain-chroma==0.1.4) (3.0.0)\n",
            "Requirement already satisfied: pygments<3.0.0,>=2.13.0 in /usr/local/lib/python3.11/dist-packages (from rich>=10.11.0->chromadb!=0.5.4,!=0.5.5,<0.6.0,>=0.4.0->langchain-chroma==0.1.4) (2.19.2)\n",
            "Requirement already satisfied: huggingface-hub<1.0,>=0.16.4 in /usr/local/lib/python3.11/dist-packages (from tokenizers<=0.20.3,>=0.13.2->chromadb!=0.5.4,!=0.5.5,<0.6.0,>=0.4.0->langchain-chroma==0.1.4) (0.33.0)\n",
            "Requirement already satisfied: click>=8.0.0 in /usr/local/lib/python3.11/dist-packages (from typer>=0.9.0->chromadb!=0.5.4,!=0.5.5,<0.6.0,>=0.4.0->langchain-chroma==0.1.4) (8.2.1)\n",
            "Requirement already satisfied: shellingham>=1.3.0 in /usr/local/lib/python3.11/dist-packages (from typer>=0.9.0->chromadb!=0.5.4,!=0.5.5,<0.6.0,>=0.4.0->langchain-chroma==0.1.4) (1.5.4)\n",
            "Collecting httptools>=0.6.3 (from uvicorn[standard]>=0.18.3->chromadb!=0.5.4,!=0.5.5,<0.6.0,>=0.4.0->langchain-chroma==0.1.4)\n",
            "  Downloading httptools-0.6.4-cp311-cp311-manylinux_2_5_x86_64.manylinux1_x86_64.manylinux_2_17_x86_64.manylinux2014_x86_64.whl.metadata (3.6 kB)\n",
            "Requirement already satisfied: python-dotenv>=0.13 in /usr/local/lib/python3.11/dist-packages (from uvicorn[standard]>=0.18.3->chromadb!=0.5.4,!=0.5.5,<0.6.0,>=0.4.0->langchain-chroma==0.1.4) (1.1.1)\n",
            "Collecting uvloop>=0.15.1 (from uvicorn[standard]>=0.18.3->chromadb!=0.5.4,!=0.5.5,<0.6.0,>=0.4.0->langchain-chroma==0.1.4)\n",
            "  Downloading uvloop-0.21.0-cp311-cp311-manylinux_2_17_x86_64.manylinux2014_x86_64.whl.metadata (4.9 kB)\n",
            "Collecting watchfiles>=0.13 (from uvicorn[standard]>=0.18.3->chromadb!=0.5.4,!=0.5.5,<0.6.0,>=0.4.0->langchain-chroma==0.1.4)\n",
            "  Downloading watchfiles-1.1.0-cp311-cp311-manylinux_2_17_x86_64.manylinux2014_x86_64.whl.metadata (4.9 kB)\n",
            "Requirement already satisfied: websockets>=10.4 in /usr/local/lib/python3.11/dist-packages (from uvicorn[standard]>=0.18.3->chromadb!=0.5.4,!=0.5.5,<0.6.0,>=0.4.0->langchain-chroma==0.1.4) (15.0.1)\n",
            "Requirement already satisfied: sniffio>=1.1 in /usr/local/lib/python3.11/dist-packages (from anyio->httpx>=0.27.0->chromadb!=0.5.4,!=0.5.5,<0.6.0,>=0.4.0->langchain-chroma==0.1.4) (1.3.1)\n",
            "Requirement already satisfied: cachetools<6.0,>=2.0.0 in /usr/local/lib/python3.11/dist-packages (from google-auth>=1.0.1->kubernetes>=28.1.0->chromadb!=0.5.4,!=0.5.5,<0.6.0,>=0.4.0->langchain-chroma==0.1.4) (5.5.2)\n",
            "Requirement already satisfied: pyasn1-modules>=0.2.1 in /usr/local/lib/python3.11/dist-packages (from google-auth>=1.0.1->kubernetes>=28.1.0->chromadb!=0.5.4,!=0.5.5,<0.6.0,>=0.4.0->langchain-chroma==0.1.4) (0.4.2)\n",
            "Requirement already satisfied: rsa<5,>=3.1.4 in /usr/local/lib/python3.11/dist-packages (from google-auth>=1.0.1->kubernetes>=28.1.0->chromadb!=0.5.4,!=0.5.5,<0.6.0,>=0.4.0->langchain-chroma==0.1.4) (4.9.1)\n",
            "Requirement already satisfied: filelock in /usr/local/lib/python3.11/dist-packages (from huggingface-hub<1.0,>=0.16.4->tokenizers<=0.20.3,>=0.13.2->chromadb!=0.5.4,!=0.5.5,<0.6.0,>=0.4.0->langchain-chroma==0.1.4) (3.18.0)\n",
            "Requirement already satisfied: fsspec>=2023.5.0 in /usr/local/lib/python3.11/dist-packages (from huggingface-hub<1.0,>=0.16.4->tokenizers<=0.20.3,>=0.13.2->chromadb!=0.5.4,!=0.5.5,<0.6.0,>=0.4.0->langchain-chroma==0.1.4) (2025.3.2)\n",
            "Requirement already satisfied: hf-xet<2.0.0,>=1.1.2 in /usr/local/lib/python3.11/dist-packages (from huggingface-hub<1.0,>=0.16.4->tokenizers<=0.20.3,>=0.13.2->chromadb!=0.5.4,!=0.5.5,<0.6.0,>=0.4.0->langchain-chroma==0.1.4) (1.1.5)\n",
            "Requirement already satisfied: zipp>=3.20 in /usr/local/lib/python3.11/dist-packages (from importlib-metadata<8.8.0,>=6.0->opentelemetry-api>=1.2.0->chromadb!=0.5.4,!=0.5.5,<0.6.0,>=0.4.0->langchain-chroma==0.1.4) (3.23.0)\n",
            "Requirement already satisfied: mdurl~=0.1 in /usr/local/lib/python3.11/dist-packages (from markdown-it-py>=2.2.0->rich>=10.11.0->chromadb!=0.5.4,!=0.5.5,<0.6.0,>=0.4.0->langchain-chroma==0.1.4) (0.1.2)\n",
            "Requirement already satisfied: charset-normalizer<4,>=2 in /usr/local/lib/python3.11/dist-packages (from requests->kubernetes>=28.1.0->chromadb!=0.5.4,!=0.5.5,<0.6.0,>=0.4.0->langchain-chroma==0.1.4) (3.4.2)\n",
            "Collecting humanfriendly>=9.1 (from coloredlogs->onnxruntime>=1.14.1->chromadb!=0.5.4,!=0.5.5,<0.6.0,>=0.4.0->langchain-chroma==0.1.4)\n",
            "  Downloading humanfriendly-10.0-py2.py3-none-any.whl.metadata (9.2 kB)\n",
            "Requirement already satisfied: mpmath<1.4,>=1.1.0 in /usr/local/lib/python3.11/dist-packages (from sympy->onnxruntime>=1.14.1->chromadb!=0.5.4,!=0.5.5,<0.6.0,>=0.4.0->langchain-chroma==0.1.4) (1.3.0)\n",
            "Requirement already satisfied: pyasn1<0.7.0,>=0.6.1 in /usr/local/lib/python3.11/dist-packages (from pyasn1-modules>=0.2.1->google-auth>=1.0.1->kubernetes>=28.1.0->chromadb!=0.5.4,!=0.5.5,<0.6.0,>=0.4.0->langchain-chroma==0.1.4) (0.6.1)\n",
            "Downloading langchain_chroma-0.1.4-py3-none-any.whl (10 kB)\n",
            "Downloading chromadb-0.5.23-py3-none-any.whl (628 kB)\n",
            "\u001b[2K   \u001b[90m━━━━━━━━━━━━━━━━━━━━━━━━━━━━━━━━━━━━━━━━\u001b[0m \u001b[32m628.3/628.3 kB\u001b[0m \u001b[31m14.4 MB/s\u001b[0m eta \u001b[36m0:00:00\u001b[0m\n",
            "\u001b[?25hDownloading chroma_hnswlib-0.7.6-cp311-cp311-manylinux_2_17_x86_64.manylinux2014_x86_64.whl (2.4 MB)\n",
            "\u001b[2K   \u001b[90m━━━━━━━━━━━━━━━━━━━━━━━━━━━━━━━━━━━━━━━━\u001b[0m \u001b[32m2.4/2.4 MB\u001b[0m \u001b[31m62.0 MB/s\u001b[0m eta \u001b[36m0:00:00\u001b[0m\n",
            "\u001b[?25hDownloading bcrypt-4.3.0-cp39-abi3-manylinux_2_34_x86_64.whl (284 kB)\n",
            "\u001b[2K   \u001b[90m━━━━━━━━━━━━━━━━━━━━━━━━━━━━━━━━━━━━━━━━\u001b[0m \u001b[32m284.2/284.2 kB\u001b[0m \u001b[31m20.5 MB/s\u001b[0m eta \u001b[36m0:00:00\u001b[0m\n",
            "\u001b[?25hDownloading kubernetes-33.1.0-py2.py3-none-any.whl (1.9 MB)\n",
            "\u001b[2K   \u001b[90m━━━━━━━━━━━━━━━━━━━━━━━━━━━━━━━━━━━━━━━━\u001b[0m \u001b[32m1.9/1.9 MB\u001b[0m \u001b[31m54.6 MB/s\u001b[0m eta \u001b[36m0:00:00\u001b[0m\n",
            "\u001b[?25hDownloading mmh3-5.1.0-cp311-cp311-manylinux_2_5_x86_64.manylinux1_x86_64.manylinux_2_17_x86_64.manylinux2014_x86_64.whl (101 kB)\n",
            "\u001b[2K   \u001b[90m━━━━━━━━━━━━━━━━━━━━━━━━━━━━━━━━━━━━━━━━\u001b[0m \u001b[32m101.6/101.6 kB\u001b[0m \u001b[31m7.5 MB/s\u001b[0m eta \u001b[36m0:00:00\u001b[0m\n",
            "\u001b[?25hDownloading onnxruntime-1.22.0-cp311-cp311-manylinux_2_27_x86_64.manylinux_2_28_x86_64.whl (16.4 MB)\n",
            "\u001b[2K   \u001b[90m━━━━━━━━━━━━━━━━━━━━━━━━━━━━━━━━━━━━━━━━\u001b[0m \u001b[32m16.4/16.4 MB\u001b[0m \u001b[31m59.0 MB/s\u001b[0m eta \u001b[36m0:00:00\u001b[0m\n",
            "\u001b[?25hDownloading opentelemetry_api-1.34.1-py3-none-any.whl (65 kB)\n",
            "\u001b[2K   \u001b[90m━━━━━━━━━━━━━━━━━━━━━━━━━━━━━━━━━━━━━━━━\u001b[0m \u001b[32m65.8/65.8 kB\u001b[0m \u001b[31m5.1 MB/s\u001b[0m eta \u001b[36m0:00:00\u001b[0m\n",
            "\u001b[?25hDownloading opentelemetry_exporter_otlp_proto_grpc-1.34.1-py3-none-any.whl (18 kB)\n",
            "Downloading opentelemetry_exporter_otlp_proto_common-1.34.1-py3-none-any.whl (18 kB)\n",
            "Downloading opentelemetry_proto-1.34.1-py3-none-any.whl (55 kB)\n",
            "\u001b[2K   \u001b[90m━━━━━━━━━━━━━━━━━━━━━━━━━━━━━━━━━━━━━━━━\u001b[0m \u001b[32m55.7/55.7 kB\u001b[0m \u001b[31m4.2 MB/s\u001b[0m eta \u001b[36m0:00:00\u001b[0m\n",
            "\u001b[?25hDownloading opentelemetry_instrumentation_fastapi-0.55b1-py3-none-any.whl (12 kB)\n",
            "Downloading opentelemetry_instrumentation-0.55b1-py3-none-any.whl (31 kB)\n",
            "Downloading opentelemetry_instrumentation_asgi-0.55b1-py3-none-any.whl (16 kB)\n",
            "Downloading opentelemetry_semantic_conventions-0.55b1-py3-none-any.whl (196 kB)\n",
            "\u001b[2K   \u001b[90m━━━━━━━━━━━━━━━━━━━━━━━━━━━━━━━━━━━━━━━━\u001b[0m \u001b[32m196.2/196.2 kB\u001b[0m \u001b[31m16.7 MB/s\u001b[0m eta \u001b[36m0:00:00\u001b[0m\n",
            "\u001b[?25hDownloading opentelemetry_util_http-0.55b1-py3-none-any.whl (7.3 kB)\n",
            "Downloading opentelemetry_sdk-1.34.1-py3-none-any.whl (118 kB)\n",
            "\u001b[2K   \u001b[90m━━━━━━━━━━━━━━━━━━━━━━━━━━━━━━━━━━━━━━━━\u001b[0m \u001b[32m118.5/118.5 kB\u001b[0m \u001b[31m9.3 MB/s\u001b[0m eta \u001b[36m0:00:00\u001b[0m\n",
            "\u001b[?25hDownloading overrides-7.7.0-py3-none-any.whl (17 kB)\n",
            "Downloading posthog-6.0.0-py3-none-any.whl (104 kB)\n",
            "\u001b[2K   \u001b[90m━━━━━━━━━━━━━━━━━━━━━━━━━━━━━━━━━━━━━━━━\u001b[0m \u001b[32m104.9/104.9 kB\u001b[0m \u001b[31m8.4 MB/s\u001b[0m eta \u001b[36m0:00:00\u001b[0m\n",
            "\u001b[?25hDownloading tokenizers-0.20.3-cp311-cp311-manylinux_2_17_x86_64.manylinux2014_x86_64.whl (3.0 MB)\n",
            "\u001b[2K   \u001b[90m━━━━━━━━━━━━━━━━━━━━━━━━━━━━━━━━━━━━━━━━\u001b[0m \u001b[32m3.0/3.0 MB\u001b[0m \u001b[31m57.8 MB/s\u001b[0m eta \u001b[36m0:00:00\u001b[0m\n",
            "\u001b[?25hDownloading backoff-2.2.1-py3-none-any.whl (15 kB)\n",
            "Downloading durationpy-0.10-py3-none-any.whl (3.9 kB)\n",
            "Downloading httptools-0.6.4-cp311-cp311-manylinux_2_5_x86_64.manylinux1_x86_64.manylinux_2_17_x86_64.manylinux2014_x86_64.whl (459 kB)\n",
            "\u001b[2K   \u001b[90m━━━━━━━━━━━━━━━━━━━━━━━━━━━━━━━━━━━━━━━━\u001b[0m \u001b[32m459.8/459.8 kB\u001b[0m \u001b[31m28.0 MB/s\u001b[0m eta \u001b[36m0:00:00\u001b[0m\n",
            "\u001b[?25hDownloading uvloop-0.21.0-cp311-cp311-manylinux_2_17_x86_64.manylinux2014_x86_64.whl (4.0 MB)\n",
            "\u001b[2K   \u001b[90m━━━━━━━━━━━━━━━━━━━━━━━━━━━━━━━━━━━━━━━━\u001b[0m \u001b[32m4.0/4.0 MB\u001b[0m \u001b[31m50.0 MB/s\u001b[0m eta \u001b[36m0:00:00\u001b[0m\n",
            "\u001b[?25hDownloading watchfiles-1.1.0-cp311-cp311-manylinux_2_17_x86_64.manylinux2014_x86_64.whl (453 kB)\n",
            "\u001b[2K   \u001b[90m━━━━━━━━━━━━━━━━━━━━━━━━━━━━━━━━━━━━━━━━\u001b[0m \u001b[32m453.1/453.1 kB\u001b[0m \u001b[31m22.5 MB/s\u001b[0m eta \u001b[36m0:00:00\u001b[0m\n",
            "\u001b[?25hDownloading coloredlogs-15.0.1-py2.py3-none-any.whl (46 kB)\n",
            "\u001b[2K   \u001b[90m━━━━━━━━━━━━━━━━━━━━━━━━━━━━━━━━━━━━━━━━\u001b[0m \u001b[32m46.0/46.0 kB\u001b[0m \u001b[31m2.5 MB/s\u001b[0m eta \u001b[36m0:00:00\u001b[0m\n",
            "\u001b[?25hDownloading asgiref-3.8.1-py3-none-any.whl (23 kB)\n",
            "Downloading humanfriendly-10.0-py2.py3-none-any.whl (86 kB)\n",
            "\u001b[2K   \u001b[90m━━━━━━━━━━━━━━━━━━━━━━━━━━━━━━━━━━━━━━━━\u001b[0m \u001b[32m86.8/86.8 kB\u001b[0m \u001b[31m6.8 MB/s\u001b[0m eta \u001b[36m0:00:00\u001b[0m\n",
            "\u001b[?25hBuilding wheels for collected packages: pypika\n",
            "  Building wheel for pypika (pyproject.toml) ... \u001b[?25l\u001b[?25hdone\n",
            "  Created wheel for pypika: filename=pypika-0.48.9-py2.py3-none-any.whl size=53803 sha256=9f5d92fa6ae265bbbc69b4ee0e1677f62869e68dc011dad686533c145e0af1aa\n",
            "  Stored in directory: /root/.cache/pip/wheels/a3/01/bd/4c40ceb9d5354160cb186dcc153360f4ab7eb23e2b24daf96d\n",
            "Successfully built pypika\n",
            "Installing collected packages: pypika, durationpy, uvloop, overrides, opentelemetry-util-http, opentelemetry-proto, mmh3, humanfriendly, httptools, chroma-hnswlib, bcrypt, backoff, asgiref, watchfiles, posthog, opentelemetry-exporter-otlp-proto-common, opentelemetry-api, coloredlogs, tokenizers, opentelemetry-semantic-conventions, onnxruntime, kubernetes, opentelemetry-sdk, opentelemetry-instrumentation, opentelemetry-instrumentation-asgi, opentelemetry-exporter-otlp-proto-grpc, opentelemetry-instrumentation-fastapi, chromadb, langchain-chroma\n",
            "  Attempting uninstall: tokenizers\n",
            "    Found existing installation: tokenizers 0.21.2\n",
            "    Uninstalling tokenizers-0.21.2:\n",
            "      Successfully uninstalled tokenizers-0.21.2\n",
            "\u001b[31mERROR: pip's dependency resolver does not currently take into account all the packages that are installed. This behaviour is the source of the following dependency conflicts.\n",
            "transformers 4.52.4 requires tokenizers<0.22,>=0.21, but you have tokenizers 0.20.3 which is incompatible.\u001b[0m\u001b[31m\n",
            "\u001b[0mSuccessfully installed asgiref-3.8.1 backoff-2.2.1 bcrypt-4.3.0 chroma-hnswlib-0.7.6 chromadb-0.5.23 coloredlogs-15.0.1 durationpy-0.10 httptools-0.6.4 humanfriendly-10.0 kubernetes-33.1.0 langchain-chroma-0.1.4 mmh3-5.1.0 onnxruntime-1.22.0 opentelemetry-api-1.34.1 opentelemetry-exporter-otlp-proto-common-1.34.1 opentelemetry-exporter-otlp-proto-grpc-1.34.1 opentelemetry-instrumentation-0.55b1 opentelemetry-instrumentation-asgi-0.55b1 opentelemetry-instrumentation-fastapi-0.55b1 opentelemetry-proto-1.34.1 opentelemetry-sdk-1.34.1 opentelemetry-semantic-conventions-0.55b1 opentelemetry-util-http-0.55b1 overrides-7.7.0 posthog-6.0.0 pypika-0.48.9 tokenizers-0.20.3 uvloop-0.21.0 watchfiles-1.1.0\n"
          ]
        }
      ],
      "source": [
        "!pip install langchain-chroma==0.1.4"
      ]
    },
    {
      "cell_type": "code",
      "execution_count": null,
      "metadata": {
        "colab": {
          "base_uri": "https://localhost:8080/"
        },
        "id": "-CwbW7bh3O_-",
        "outputId": "7c452452-4658-43a7-a281-4063d29511b1"
      },
      "outputs": [
        {
          "output_type": "stream",
          "name": "stderr",
          "text": [
            "ERROR:chromadb.telemetry.product.posthog:Failed to send telemetry event ClientStartEvent: capture() takes 1 positional argument but 3 were given\n",
            "ERROR:chromadb.telemetry.product.posthog:Failed to send telemetry event ClientCreateCollectionEvent: capture() takes 1 positional argument but 3 were given\n"
          ]
        }
      ],
      "source": [
        "from langchain_chroma import Chroma  # 意味ベースで検索できるデータベース「Chroma」を使うよ\n",
        "\n",
        "db = Chroma.from_documents(docs, embeddings)  # さっき分割した文章たちと、意味をベクトルに変える道具を使って、検索できるデータベースを作るよ\n"
      ]
    },
    {
      "cell_type": "code",
      "execution_count": null,
      "metadata": {
        "id": "Ht5oCo8s3O_-"
      },
      "outputs": [],
      "source": [
        "retriever = db.as_retriever()  # ベクトル検索できるように変換するよ。意味が近い文を探せる検索機になるよ\n"
      ]
    },
    {
      "cell_type": "code",
      "execution_count": null,
      "metadata": {
        "colab": {
          "base_uri": "https://localhost:8080/"
        },
        "id": "VABewwTu3O_-",
        "outputId": "efbda755-81bc-4585-982f-d3199d8e693d"
      },
      "outputs": [
        {
          "output_type": "stream",
          "name": "stderr",
          "text": [
            "WARNING:langsmith.client:Failed to multipart ingest runs: langsmith.utils.LangSmithError: Failed to POST https://api.smith.langchain.com/runs/multipart in LangSmith API. HTTPError('403 Client Error: Forbidden for url: https://api.smith.langchain.com/runs/multipart', '{\"error\":\"Forbidden\"}\\n')\n",
            "ERROR:chromadb.telemetry.product.posthog:Failed to send telemetry event CollectionQueryEvent: capture() takes 1 positional argument but 3 were given\n"
          ]
        },
        {
          "output_type": "stream",
          "name": "stdout",
          "text": [
            "len = 4\n",
            "metadata = {'file_name': 'aws.mdx', 'file_path': 'docs/docs/integrations/providers/aws.mdx', 'file_type': '.mdx', 'source': 'docs/docs/integrations/providers/aws.mdx'}\n",
            "### AWS S3 Directory and File\n",
            "\n",
            ">[Amazon Simple Storage Service (Amazon S3)](https://docs.aws.amazon.com/AmazonS3/latest/userguide/using-folders.html)\n",
            "> is an object storage service.\n",
            ">[AWS S3 Directory](https://docs.aws.amazon.com/AmazonS3/latest/userguide/using-folders.html)\n",
            ">[AWS S3 Buckets](https://docs.aws.amazon.com/AmazonS3/latest/userguide/UsingBucket.html)\n",
            "\n",
            "See a [usage example for S3DirectoryLoader](/docs/integrations/document_loaders/aws_s3_directory).\n",
            "\n",
            "See a [usage example for S3FileLoader](/docs/integrations/document_loaders/aws_s3_file).\n",
            "\n",
            "```python\n",
            "from langchain_community.document_loaders import S3DirectoryLoader, S3FileLoader\n",
            "```\n",
            "\n",
            "### Amazon Textract\n",
            "\n",
            ">[Amazon Textract](https://docs.aws.amazon.com/managedservices/latest/userguide/textract.html) is a machine \n",
            "> learning (ML) service that automatically extracts text, handwriting, and data from scanned documents.\n",
            "\n",
            "See a [usage example](/docs/integrations/document_loaders/amazon_textract).\n"
          ]
        }
      ],
      "source": [
        "query = \"AWSのS3からデータを読み込むためのDocument loaderはありますか？\"  # 質問の内容だよ\n",
        "\n",
        "context_docs = retriever.invoke(query)  # retrieverに質問して、似ている文書を探してもらうよ\n",
        "print(f\"len = {len(context_docs)}\")  # 何件の文書が見つかったかを表示するよ\n",
        "\n",
        "first_doc = context_docs[0]  # 一番最初に見つかった文書を取り出すよ\n",
        "print(f\"metadata = {first_doc.metadata}\")  # 文書にくっついてる追加情報（出典など）を表示するよ\n",
        "print(first_doc.page_content)  # 実際の中身のテキストを表示するよ\n"
      ]
    },
    {
      "cell_type": "markdown",
      "metadata": {
        "id": "pSiAvf5a3O_-"
      },
      "source": [
        "### LCEL を使った RAG の Chain の実装\n"
      ]
    },
    {
      "cell_type": "code",
      "execution_count": null,
      "metadata": {
        "id": "7vU3Su1U3O_-"
      },
      "outputs": [],
      "source": [
        "from langchain_core.prompts import ChatPromptTemplate  # 会話用のひな形を作る道具を使うよ\n",
        "from langchain_openai import ChatOpenAI  # OpenAIのAIモデルを使うよ\n",
        "\n",
        "# 質問に答えてもらうときのひな形（プロンプト）を作るよ\n",
        "prompt = ChatPromptTemplate.from_template('''\\\n",
        "以下の文脈だけを踏まえて質問に回答してください。\n",
        "\n",
        "文脈: \"\"\"\n",
        "{context}\n",
        "\"\"\"\n",
        "\n",
        "質問: {question}\n",
        "''')\n",
        "\n",
        "# gpt-4o-miniという軽量のAIを使う準備をするよ\n",
        "model = ChatOpenAI(model_name=\"gpt-4o-mini\", temperature=0)\n"
      ]
    },
    {
      "cell_type": "code",
      "execution_count": null,
      "metadata": {
        "colab": {
          "base_uri": "https://localhost:8080/"
        },
        "id": "fBQg_x0n3O__",
        "outputId": "d730c6ad-66ee-498c-c163-743e6d6480d9"
      },
      "outputs": [
        {
          "output_type": "stream",
          "name": "stderr",
          "text": [
            "WARNING:langsmith.client:Failed to multipart ingest runs: langsmith.utils.LangSmithError: Failed to POST https://api.smith.langchain.com/runs/multipart in LangSmith API. HTTPError('403 Client Error: Forbidden for url: https://api.smith.langchain.com/runs/multipart', '{\"error\":\"Forbidden\"}\\n')\n",
            "WARNING:langsmith.client:Failed to multipart ingest runs: langsmith.utils.LangSmithError: Failed to POST https://api.smith.langchain.com/runs/multipart in LangSmith API. HTTPError('403 Client Error: Forbidden for url: https://api.smith.langchain.com/runs/multipart', '{\"error\":\"Forbidden\"}\\n')\n"
          ]
        },
        {
          "output_type": "stream",
          "name": "stdout",
          "text": [
            "はい、AWSのS3からデータを読み込むためのDocument loaderとして、`S3DirectoryLoader`と`S3FileLoader`があります。これらは、AWS S3のディレクトリやファイルからデータを読み込むために使用されます。\n"
          ]
        }
      ],
      "source": [
        "from langchain_core.output_parsers import StrOutputParser  # AIの返事を文字として取り出す道具だよ\n",
        "from langchain_core.runnables import RunnablePassthrough  # そのまま渡すためのパイプみたいなものだよ\n",
        "\n",
        "# 「文脈を取ってきて、質問を渡して、AIの答えを文字にする」流れを作るよ\n",
        "chain = (\n",
        "    {\"context\": retriever, \"question\": RunnablePassthrough()}  # retrieverが文脈を探して、質問をそのまま渡すよ\n",
        "    | prompt  # テンプレートに当てはめるよ（「文脈：〜 質問：〜」って形にするよ）\n",
        "    | model  # AIに答えてもらうよ\n",
        "    | StrOutputParser()  # AIの答えを「ただの文字」にして取り出すよ\n",
        ")\n",
        "\n",
        "# 実際に質問して答えをもらうよ\n",
        "output = chain.invoke(query)\n",
        "print(output)  # AIが返してくれた答えを表示するよ\n"
      ]
    },
    {
      "cell_type": "code",
      "execution_count": null,
      "metadata": {
        "id": "I5a_VPIx3O__"
      },
      "outputs": [],
      "source": []
    }
  ],
  "metadata": {
    "kernelspec": {
      "display_name": ".venv",
      "language": "python",
      "name": "python3"
    },
    "language_info": {
      "codemirror_mode": {
        "name": "ipython",
        "version": 3
      },
      "file_extension": ".py",
      "mimetype": "text/x-python",
      "name": "python",
      "nbconvert_exporter": "python",
      "pygments_lexer": "ipython3",
      "version": "3.11.9"
    },
    "colab": {
      "provenance": [],
      "include_colab_link": true
    }
  },
  "nbformat": 4,
  "nbformat_minor": 0
}